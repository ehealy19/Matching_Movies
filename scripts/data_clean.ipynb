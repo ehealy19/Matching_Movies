{
 "cells": [
  {
   "cell_type": "code",
   "execution_count": 155,
   "id": "1e0508f8",
   "metadata": {},
   "outputs": [],
   "source": [
    "import pandas as pd\n",
    "import numpy as np\n",
    "\n",
    "movies_df = pd.read_csv(\"../data/output_data/combined_movies.csv\")"
   ]
  },
  {
   "cell_type": "code",
   "execution_count": 156,
   "id": "b2c04d28",
   "metadata": {},
   "outputs": [],
   "source": [
    "# removing the first row (empty)\n",
    "movies_df = movies_df.iloc[1:]"
   ]
  },
  {
   "cell_type": "code",
   "execution_count": 157,
   "id": "634b0469",
   "metadata": {},
   "outputs": [],
   "source": [
    "# dropping Poster URL column\n",
    "movies_df = movies_df.drop(columns=[\"Poster URL\"])"
   ]
  },
  {
   "cell_type": "code",
   "execution_count": 158,
   "id": "520b0932",
   "metadata": {},
   "outputs": [],
   "source": [
    "# dropping missing values\n",
    "movies_df = movies_df.dropna()\n",
    "\n",
    "# dropping zeros (budget and revenue)\n",
    "movies_df = movies_df[(movies_df[\"Budget\"] != 0) & (movies_df[\"Revenue\"] != 0)]"
   ]
  },
  {
   "cell_type": "code",
   "execution_count": 159,
   "id": "a8f0b703",
   "metadata": {},
   "outputs": [],
   "source": [
    "# converting runtime to numeric\n",
    "movies_df[\"Runtime\"] = movies_df[\"Runtime\"].str.replace(\" min\", \"\").astype(int)"
   ]
  },
  {
   "cell_type": "code",
   "execution_count": 160,
   "id": "d1eb2ea0",
   "metadata": {},
   "outputs": [],
   "source": [
    "# splitting the released date into year, month, and day\n",
    "movies_df[\"Released\"] = pd.to_datetime(movies_df[\"Released\"], errors='coerce')\n",
    "movies_df[\"Year\"] = movies_df[\"Released\"].dt.year\n",
    "movies_df[\"Month\"] = movies_df[\"Released\"].dt.month\n",
    "movies_df[\"Day\"] = movies_df[\"Released\"].dt.day\n",
    "\n",
    "# dropping the original Released column\n",
    "movies_df = movies_df.drop(columns=[\"Released\"])"
   ]
  },
  {
   "cell_type": "code",
   "execution_count": 161,
   "id": "aaa94c69",
   "metadata": {},
   "outputs": [],
   "source": [
    "# making the genre column one-hot encoded\n",
    "genre_dummies = movies_df[\"Genre\"].str.get_dummies(sep=', ')\n",
    "movies_df = pd.concat([movies_df, genre_dummies], axis=1)\n",
    "\n",
    "# dropping the original genre column\n",
    "movies_df = movies_df.drop(columns=[\"Genre\"])"
   ]
  },
  {
   "cell_type": "code",
   "execution_count": 162,
   "id": "c0fbe507",
   "metadata": {},
   "outputs": [],
   "source": [
    "# making the MPAA rating one-hot encoded\n",
    "mpaa_dummies = movies_df[\"Rated\"].str.get_dummies(sep=', ')\n",
    "movies_df = pd.concat([movies_df, mpaa_dummies], axis=1)\n",
    "\n",
    "# dropping the original MPAA rating column\n",
    "movies_df = movies_df.drop(columns=[\"Rated\"])"
   ]
  },
  {
   "cell_type": "code",
   "execution_count": null,
   "id": "7e713706",
   "metadata": {},
   "outputs": [],
   "source": [
    "# creating variable that indicates the movie was made by a big production company\n",
    "companies = [\"Universal Pictures\", \"Paramount Pictures\", \"Warner Bros. Pictures\", \"Walt Disney Pictures\", \"Walt Disney Feature Animation\", \"Sony Pictures\", \"Universal Pictures\", \"20th Century Fox\", \"Columbia Pictures\", \"Lionsgate\", \"Metro-Goldwyn-Mayer\", \"Marvel Studios\", \"Pixar Animation Studios\", \"DreamWorks Animation\", \"DreamWorks Pictures\", \"New Line Cinema\", \"Focus Features\", \"Orion Pictures\", \"United Artists\", \"A24\", \"Searchlight Pictures\"]\n",
    "movies_df[\"Top_Production_Company\"] = movies_df[\"Production Companies\"].apply(lambda x: int(any(company in x for company in companies)))\n",
    "\n",
    "# dropping the original Production Companies column\n",
    "movies_df = movies_df.drop(columns=[\"Production Companies\"])"
   ]
  },
  {
   "cell_type": "code",
   "execution_count": 164,
   "id": "2653e0f7",
   "metadata": {},
   "outputs": [],
   "source": [
    "# converting text variables to strings\n",
    "\n",
    "movies_df[\"Title\"] = movies_df[\"Title\"].astype(\"string\")\n",
    "movies_df[\"Director\"] = movies_df[\"Director\"].astype(\"string\")\n",
    "movies_df[\"Writer\"] = movies_df[\"Writer\"].astype(\"string\")\n",
    "movies_df[\"Actors\"] = movies_df[\"Actors\"].astype(\"string\")\n",
    "movies_df[\"Description\"] = movies_df[\"Description\"].astype(\"string\")\n",
    "movies_df[\"Tagline\"] = movies_df[\"Tagline\"].astype(\"string\")\n",
    "movies_df[\"Overview\"] = movies_df[\"Overview\"].astype(\"string\")"
   ]
  },
  {
   "cell_type": "code",
   "execution_count": 165,
   "id": "e2fe4850",
   "metadata": {},
   "outputs": [],
   "source": [
    "# convering IMDB votes to numeric\n",
    "movies_df[\"IMDB Votes\"] = movies_df[\"IMDB Votes\"].str.replace(\",\", \"\").astype(int)"
   ]
  },
  {
   "cell_type": "code",
   "execution_count": 166,
   "id": "4ea508c8",
   "metadata": {},
   "outputs": [],
   "source": [
    "# converting box office to numeric\n",
    "movies_df[\"Box Office\"] = movies_df[\"Box Office\"].str.replace(\"$\", \"\").str.replace(\",\", \"\").astype(float)"
   ]
  },
  {
   "cell_type": "code",
   "execution_count": 167,
   "id": "be2558ff",
   "metadata": {},
   "outputs": [],
   "source": [
    "# converting country to one-hot encoded\n",
    "country_dummies = movies_df[\"Country\"].str.get_dummies(sep=', ')\n",
    "movies_df = pd.concat([movies_df, country_dummies], axis=1)\n",
    "\n",
    "# dropping the original country column\n",
    "movies_df = movies_df.drop(columns=[\"Country\"])"
   ]
  },
  {
   "cell_type": "code",
   "execution_count": 168,
   "id": "d5b7fc33",
   "metadata": {},
   "outputs": [],
   "source": [
    "# converting language to one-hot encoded\n",
    "country_dummies = movies_df[\"Language\"].str.get_dummies(sep=', ')\n",
    "movies_df = pd.concat([movies_df, country_dummies], axis=1)\n",
    "\n",
    "# dropping the original country column\n",
    "movies_df = movies_df.drop(columns=[\"Language\"])"
   ]
  },
  {
   "cell_type": "code",
   "execution_count": 169,
   "id": "10452cb0",
   "metadata": {},
   "outputs": [
    {
     "name": "stdout",
     "output_type": "stream",
     "text": [
      "Title          string[python]\n",
      "Year                    int32\n",
      "Runtime                 int64\n",
      "Director       string[python]\n",
      "Writer         string[python]\n",
      "Actors         string[python]\n",
      "IMDB Rating           float64\n",
      "Metascore             float64\n",
      "IMDB Votes              int64\n",
      "Awards                 object\n",
      "dtype: object\n",
      "Box Office                     float64\n",
      "Description             string[python]\n",
      "Tagline                 string[python]\n",
      "Overview                string[python]\n",
      "Budget                           int64\n",
      "Revenue                          int64\n",
      "TMDB Rating                    float64\n",
      "Vote Count                       int64\n",
      "Production Companies            object\n",
      "Month                            int32\n",
      "dtype: object\n",
      "Day          int32\n",
      "Action       int64\n",
      "Adventure    int64\n",
      "Animation    int64\n",
      "dtype: object\n"
     ]
    }
   ],
   "source": [
    "# check data types\n",
    "print(movies_df.dtypes[:10])\n",
    "print(movies_df.dtypes[10:20])\n",
    "print(movies_df.dtypes[20:24])"
   ]
  },
  {
   "cell_type": "code",
   "execution_count": 170,
   "id": "da5b34d0",
   "metadata": {},
   "outputs": [
    {
     "name": "stdout",
     "output_type": "stream",
     "text": [
      "Number of movies: 2816\n"
     ]
    }
   ],
   "source": [
    "movies = len(movies_df)\n",
    "print(\"Number of movies:\", movies)"
   ]
  },
  {
   "cell_type": "code",
   "execution_count": 171,
   "id": "0a020623",
   "metadata": {},
   "outputs": [
    {
     "name": "stdout",
     "output_type": "stream",
     "text": [
      "Number of columns: 275\n"
     ]
    }
   ],
   "source": [
    "# check number of columns\n",
    "columns = len(movies_df.columns)\n",
    "print(\"Number of columns:\", columns)"
   ]
  },
  {
   "cell_type": "code",
   "execution_count": 172,
   "id": "2c95bdf0",
   "metadata": {},
   "outputs": [],
   "source": [
    "movies_df.to_csv(\"../data/output_data/clean_movies.csv\", index=False)"
   ]
  },
  {
   "cell_type": "markdown",
   "id": "d9349e3c",
   "metadata": {},
   "source": [
    "\n",
    "Director       string[python]\n",
    "Writer         string[python]\n",
    "Awards                 object\n",
    "\n",
    "Network Analysis:\n",
    "Actors\n",
    "\n",
    "Sentiment Analysis:\n",
    "Description\n",
    "Tagline    \n",
    "Overview       "
   ]
  }
 ],
 "metadata": {
  "kernelspec": {
   "display_name": "dsan5650",
   "language": "python",
   "name": "python3"
  },
  "language_info": {
   "codemirror_mode": {
    "name": "ipython",
    "version": 3
   },
   "file_extension": ".py",
   "mimetype": "text/x-python",
   "name": "python",
   "nbconvert_exporter": "python",
   "pygments_lexer": "ipython3",
   "version": "3.11.13"
  }
 },
 "nbformat": 4,
 "nbformat_minor": 5
}
