{
 "cells": [
  {
   "cell_type": "markdown",
   "id": "c4e698f5",
   "metadata": {},
   "source": [
    "## Attempting to find the best way to categorize the female-led films and make the defining variable."
   ]
  },
  {
   "cell_type": "code",
   "execution_count": 1,
   "id": "a9b14b51",
   "metadata": {},
   "outputs": [],
   "source": [
    "import pandas as pd\n",
    "import numpy as np\n",
    "\n",
    "movies_df = pd.read_csv(\"../data/output_data/clean_movies.csv\")"
   ]
  },
  {
   "cell_type": "code",
   "execution_count": null,
   "id": "3b8cc6c7",
   "metadata": {},
   "outputs": [
    {
     "name": "stdout",
     "output_type": "stream",
     "text": [
      "0          Mark Wahlberg\n",
      "1             Jamie Bell\n",
      "2          Ryan Reynolds\n",
      "3            Marc Singer\n",
      "4         Tom Hiddleston\n",
      "5          Jeremy Renner\n",
      "6          Frankie Muniz\n",
      "7             Ben Barnes\n",
      "8          Jason Bateman\n",
      "9             Jack Black\n",
      "10            Chris Pine\n",
      "11        Angelina Jolie\n",
      "12          Sam Rockwell\n",
      "13            Nick Nolte\n",
      "14        Timothy Dalton\n",
      "15             Al Pacino\n",
      "16        Clint Eastwood\n",
      "17    Natasha Henstridge\n",
      "18           Hilary Duff\n",
      "19       Jake Gyllenhaal\n",
      "Name: Actors, dtype: object\n",
      "0                                Four Brothers\n",
      "1                     The Adventures of Tintin\n",
      "2                                Green Lantern\n",
      "3                              The Beastmaster\n",
      "4                           Kong: Skull Island\n",
      "5                                          Tag\n",
      "6                                 Big Fat Liar\n",
      "7     The Chronicles of Narnia: Prince Caspian\n",
      "8                              Horrible Bosses\n",
      "9                                  Nacho Libre\n",
      "10                     Star Trek Into Darkness\n",
      "11                Maleficent: Mistress of Evil\n",
      "12                                The Bad Guys\n",
      "13                                     48 Hrs.\n",
      "14                        The Living Daylights\n",
      "15                               Carlito's Way\n",
      "16                            Heartbreak Ridge\n",
      "17                                     Species\n",
      "18                          A Cinderella Story\n",
      "19                                  Demolition\n",
      "Name: Title, dtype: object\n"
     ]
    }
   ],
   "source": [
    "# checking how accurate the first listed actor/actress is in terms of being the star or main character\n",
    "first_actors = movies_df['Actors'].str.split(',').str[0].str.strip()\n",
    "print(first_actors.head(20))\n",
    "\n",
    "print(movies_df['Title'].head(20))"
   ]
  },
  {
   "cell_type": "code",
   "execution_count": null,
   "id": "3c632fc4",
   "metadata": {},
   "outputs": [
    {
     "name": "stdout",
     "output_type": "stream",
     "text": [
      "There are 2452 actresses in the list\n"
     ]
    }
   ],
   "source": [
    "# getting the female actresses names from excel file\n",
    "\n",
    "# opening the file\n",
    "female_df = pd.read_excel(\"../data/input_data/female_actresses.xlsx\")\n",
    "female_df = female_df.rename(columns={'A': 'Name'})\n",
    "\n",
    "# splitting to get the names only\n",
    "female_df['Name'] = female_df['Name'].str.split(' born').str[0].str.split(r'\\d').str[0].str.strip()\n",
    "\n",
    "# deleting the rows that are just the letter headers\n",
    "female_df = female_df[~female_df['Name'].isin(list('ABCDEFGHIJKLMNOPQRSTUVWXYZ'))]\n",
    "\n",
    "num_actresses = len(female_df)\n",
    "print(f'There are {num_actresses} actresses in the list')"
   ]
  },
  {
   "cell_type": "code",
   "execution_count": 53,
   "id": "b8761c3f",
   "metadata": {},
   "outputs": [
    {
     "name": "stdout",
     "output_type": "stream",
     "text": [
      "                                      Title     First_Actor  Female_Lead\n",
      "0                             Four Brothers   Mark Wahlberg            0\n",
      "1                  The Adventures of Tintin      Jamie Bell            0\n",
      "2                             Green Lantern   Ryan Reynolds            0\n",
      "3                           The Beastmaster     Marc Singer            0\n",
      "4                        Kong: Skull Island  Tom Hiddleston            0\n",
      "5                                       Tag   Jeremy Renner            0\n",
      "6                              Big Fat Liar   Frankie Muniz            0\n",
      "7  The Chronicles of Narnia: Prince Caspian      Ben Barnes            0\n",
      "8                           Horrible Bosses   Jason Bateman            0\n",
      "9                               Nacho Libre      Jack Black            0\n",
      "              Title         First_Actor  Female_Lead\n",
      "2806     The Family      Robert De Niro            0\n",
      "2807      The Shack     Sam Worthington            0\n",
      "2808  The Dead Zone  Christopher Walken            0\n",
      "2809        The Ref         Denis Leary            0\n",
      "2810        Flyboys        James Franco            0\n",
      "2811            ATL   Tip 'T.I.' Harris            0\n",
      "2812    Like a Boss     Tiffany Haddish            1\n",
      "2813     Enemy Mine        Dennis Quaid            0\n",
      "2814     Proud Mary    Taraji P. Henson            1\n",
      "2815        Valmont         Colin Firth            0\n"
     ]
    }
   ],
   "source": [
    "# Creating the variable to indicate if first actor is female\n",
    "first_actors = movies_df['Actors'].str.split(',').str[0].str.strip()\n",
    "movies_df['First_Actor'] = first_actors\n",
    "\n",
    "# Check if the first actor is in the female name list\n",
    "movies_df['Female_Lead'] = movies_df['First_Actor'].apply(lambda x: int(any(name in x for name in female_df['Name'])))\n",
    "\n",
    "# checking the new variable\n",
    "print(movies_df[['Title', 'First_Actor', 'Female_Lead']].head(10))\n",
    "print(movies_df[['Title', 'First_Actor', 'Female_Lead']].tail(10))\n",
    "\n",
    "# dropping the first_Actor column\n",
    "movies_df = movies_df.drop(columns=[\"First_Actor\"])"
   ]
  },
  {
   "cell_type": "code",
   "execution_count": 56,
   "id": "2cdfe006",
   "metadata": {},
   "outputs": [
    {
     "name": "stdout",
     "output_type": "stream",
     "text": [
      "Female_Lead\n",
      "0    2328\n",
      "1     488\n",
      "Name: count, dtype: int64\n"
     ]
    }
   ],
   "source": [
    "# Count of the split\n",
    "female_lead_count = movies_df['Female_Lead'].value_counts()\n",
    "print(female_lead_count)"
   ]
  },
  {
   "cell_type": "code",
   "execution_count": 54,
   "id": "c189960f",
   "metadata": {},
   "outputs": [],
   "source": [
    "movies_df.to_csv(\"../data/output_data/clean_movies_sent_fem.csv\", index=False)"
   ]
  }
 ],
 "metadata": {
  "kernelspec": {
   "display_name": "dsan5650",
   "language": "python",
   "name": "python3"
  },
  "language_info": {
   "codemirror_mode": {
    "name": "ipython",
    "version": 3
   },
   "file_extension": ".py",
   "mimetype": "text/x-python",
   "name": "python",
   "nbconvert_exporter": "python",
   "pygments_lexer": "ipython3",
   "version": "3.11.13"
  }
 },
 "nbformat": 4,
 "nbformat_minor": 5
}
