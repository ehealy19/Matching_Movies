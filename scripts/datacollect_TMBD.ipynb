{
 "cells": [
  {
   "cell_type": "code",
   "execution_count": 4,
   "metadata": {},
   "outputs": [],
   "source": [
    "#open api \n",
    "#import API key \n",
    "import requests\n",
    "import json\n",
    "import csv\n",
    "with open('../api_key.json') as f:\n",
    "    keys = json.load(f)\n",
    "TMDB_KEY = keys['TMDB_key']"
   ]
  },
  {
   "cell_type": "code",
   "execution_count": null,
   "metadata": {},
   "outputs": [
    {
     "name": "stdout",
     "output_type": "stream",
     "text": [
      "✓ Processed: Title\n",
      "✓ Processed: Four Brothers\n",
      "✓ Processed: The Adventures of Tintin\n",
      "✓ Processed: Green Lantern\n",
      "✓ Processed: Top Secret!\n",
      "✓ Processed: The Beastmaster\n",
      "✓ Processed: Kong: Skull Island\n",
      "✓ Processed: Tag\n",
      "✓ Processed: Big Fat Liar\n",
      "✓ Processed: Upgraded\n",
      "✅ Done. Processed 10 movies.\n"
     ]
    }
   ],
   "source": [
    "# Input and output file names\n",
    "input_file = \"../data/input_data/file_1.csv\"         # File containing the list of movies\n",
    "output_file = \"../data/output_data/OMDB/movies_T.csv\"  # New file with movie details\n",
    "\n",
    "# Start index\n",
    "START_INDEX = 0  # Process from movie #1001 onward\n",
    "BATCH_SIZE = 5000   # Number of movies to process in each run\n",
    "\n",
    "# Read all movie titles from the input CSV file\n",
    "with open(input_file, mode=\"r\", encoding=\"utf-8\") as infile:\n",
    "    reader = csv.reader(infile)\n",
    "    movie_titles = [row[0] for row in reader]  # Assuming titles are in the first column\n",
    "\n",
    "# Get the subset of movies to process in this batch\n",
    "movies_to_process = movie_titles[START_INDEX:START_INDEX + BATCH_SIZE]\n",
    "\n",
    "# Open the output file in append mode to continue adding data\n",
    "with open(output_file, mode=\"a\", newline=\"\", encoding=\"utf-8\") as outfile:\n",
    "    writer = csv.writer(outfile)\n",
    "\n",
    "    # If the file is new, add headers\n",
    "    if START_INDEX == 0:\n",
    "        writer.writerow([\n",
    "            \"Title\", \"Tagline\", \"Overview\", \"Budget\", \"Revenue\", \"TMDB Rating\", \"Vote Count\", \"Production Companies\"\n",
    "        ])\n",
    "\n",
    "    for movie_title in movies_to_process:\n",
    "        # Search for the movie by title\n",
    "        search_url = \"https://api.themoviedb.org/3/search/movie\"\n",
    "        params = {\"api_key\": TMDB_KEY, \"query\": movie_title}\n",
    "        search_response = requests.get(search_url, params=params)\n",
    "\n",
    "        if search_response.status_code == 200 and search_response.json()[\"results\"]:\n",
    "            movie_id = search_response.json()[\"results\"][0][\"id\"]\n",
    "\n",
    "            # Get detailed info\n",
    "            details_url = f\"https://api.themoviedb.org/3/movie/{movie_id}\"\n",
    "            details_params = {\"api_key\": TMDB_KEY}\n",
    "            details_response = requests.get(details_url, params=details_params)\n",
    "\n",
    "            if details_response.status_code == 200:\n",
    "                data = details_response.json()\n",
    "\n",
    "                title = data.get(\"title\", \"N/A\")\n",
    "                tagline = data.get(\"tagline\", \"N/A\")\n",
    "                overview = data.get(\"overview\", \"N/A\")\n",
    "                budget = data.get(\"budget\", \"N/A\")\n",
    "                revenue = data.get(\"revenue\", \"N/A\")\n",
    "                vote_average = data.get(\"vote_average\", \"N/A\")\n",
    "                vote_count = data.get(\"vote_count\", \"N/A\")\n",
    "                production_companies = \", \".join([c[\"name\"] for c in data.get(\"production_companies\", [])])\n",
    "\n",
    "                writer.writerow([\n",
    "                    title,\n",
    "                    tagline,\n",
    "                    overview,\n",
    "                    budget,\n",
    "                    revenue,\n",
    "                    vote_average,\n",
    "                    vote_count,\n",
    "                    production_companies\n",
    "                ])\n",
    "\n",
    "                print(f\"✓ Processed: {movie_title}\")\n",
    "            else:\n",
    "                print(f\"✗ Failed to get details for: {movie_title}\")\n",
    "        else:\n",
    "            print(f\"✗ Movie not found: {movie_title}\")\n",
    "\n",
    "print(f\"✅ Done. Processed {len(movies_to_process)} movies.\")"
   ]
  }
 ],
 "metadata": {
  "kernelspec": {
   "display_name": "dsan5650",
   "language": "python",
   "name": "python3"
  },
  "language_info": {
   "codemirror_mode": {
    "name": "ipython",
    "version": 3
   },
   "file_extension": ".py",
   "mimetype": "text/x-python",
   "name": "python",
   "nbconvert_exporter": "python",
   "pygments_lexer": "ipython3",
   "version": "3.11.13"
  }
 },
 "nbformat": 4,
 "nbformat_minor": 2
}
