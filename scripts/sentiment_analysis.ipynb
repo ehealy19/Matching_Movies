{
 "cells": [
  {
   "cell_type": "markdown",
   "id": "4ad14931",
   "metadata": {},
   "source": [
    "Performing Sentiment Analysis on Description, Tagline, and Overview"
   ]
  },
  {
   "cell_type": "code",
   "execution_count": 9,
   "id": "32e1727a",
   "metadata": {},
   "outputs": [
    {
     "name": "stderr",
     "output_type": "stream",
     "text": [
      "Device set to use cpu\n"
     ]
    }
   ],
   "source": [
    "from transformers import pipeline\n",
    "\n",
    "classifier = pipeline(\n",
    "    \"sentiment-analysis\", \n",
    "    model=\"distilbert-base-uncased-finetuned-sst-2-english\",\n",
    "    truncation=True\n",
    "    )"
   ]
  },
  {
   "cell_type": "code",
   "execution_count": 10,
   "id": "dcfdd68f",
   "metadata": {},
   "outputs": [],
   "source": [
    "import pandas as pd\n",
    "import numpy as np\n",
    "\n",
    "movies_df = pd.read_csv(\"../data/output_data/clean_movies.csv\")\n",
    "\n",
    "#Description Sentiment Analysis\n",
    "movies_df[\"Descr_Sentiment\"] = movies_df[\"Description\"].apply(lambda x: classifier(x)[0][\"label\"])"
   ]
  },
  {
   "cell_type": "code",
   "execution_count": 11,
   "id": "95dbfeb0",
   "metadata": {},
   "outputs": [],
   "source": [
    "# Overview Sentiment Analysis\n",
    "movies_df[\"Tagline_Sentiment\"] = movies_df[\"Tagline\"].apply(lambda x: classifier(x)[0][\"label\"])"
   ]
  },
  {
   "cell_type": "code",
   "execution_count": 13,
   "id": "690dcd80",
   "metadata": {},
   "outputs": [
    {
     "name": "stderr",
     "output_type": "stream",
     "text": [
      "/var/folders/f7/px3ynpyn7l3g5j59yyvbggrw0000gn/T/ipykernel_33281/2660690932.py:2: FutureWarning: Downcasting behavior in `replace` is deprecated and will be removed in a future version. To retain the old behavior, explicitly call `result.infer_objects(copy=False)`. To opt-in to the future behavior, set `pd.set_option('future.no_silent_downcasting', True)`\n",
      "  movies_df[\"Descr_Sentiment\"] = movies_df[\"Descr_Sentiment\"].replace({\"NEGATIVE\": 0, \"POSITIVE\": 1})\n",
      "/var/folders/f7/px3ynpyn7l3g5j59yyvbggrw0000gn/T/ipykernel_33281/2660690932.py:3: FutureWarning: Downcasting behavior in `replace` is deprecated and will be removed in a future version. To retain the old behavior, explicitly call `result.infer_objects(copy=False)`. To opt-in to the future behavior, set `pd.set_option('future.no_silent_downcasting', True)`\n",
      "  movies_df[\"Tagline_Sentiment\"] = movies_df[\"Tagline_Sentiment\"].replace({\"NEGATIVE\": 0, \"POSITIVE\": 1})\n"
     ]
    }
   ],
   "source": [
    "# converting the neg/pos to label 0/1\n",
    "movies_df[\"Descr_Sentiment\"] = movies_df[\"Descr_Sentiment\"].replace({\"NEGATIVE\": 0, \"POSITIVE\": 1})\n",
    "movies_df[\"Tagline_Sentiment\"] = movies_df[\"Tagline_Sentiment\"].replace({\"NEGATIVE\": 0, \"POSITIVE\": 1})"
   ]
  },
  {
   "cell_type": "code",
   "execution_count": 14,
   "id": "89dc0bcb",
   "metadata": {},
   "outputs": [],
   "source": [
    "# dropping the original columns\n",
    "movies_df = movies_df.drop(columns=[\"Tagline\", \"Description\"])"
   ]
  },
  {
   "cell_type": "code",
   "execution_count": 15,
   "id": "f8a63b6d",
   "metadata": {},
   "outputs": [],
   "source": [
    "movies_df.to_csv(\"../data/output_data/clean_movies_sent.csv\", index=False)"
   ]
  }
 ],
 "metadata": {
  "kernelspec": {
   "display_name": "dsan5650",
   "language": "python",
   "name": "python3"
  },
  "language_info": {
   "codemirror_mode": {
    "name": "ipython",
    "version": 3
   },
   "file_extension": ".py",
   "mimetype": "text/x-python",
   "name": "python",
   "nbconvert_exporter": "python",
   "pygments_lexer": "ipython3",
   "version": "3.11.13"
  }
 },
 "nbformat": 4,
 "nbformat_minor": 5
}
