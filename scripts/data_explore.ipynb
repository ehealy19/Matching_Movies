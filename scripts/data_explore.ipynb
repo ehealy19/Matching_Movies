{
 "cells": [
  {
   "cell_type": "code",
   "execution_count": null,
   "id": "0b013527",
   "metadata": {},
   "outputs": [],
   "source": [
    "import pandas as pd\n",
    "import numpy as np\n",
    "\n",
    "movies_df = pd.read_csv(\"./data/movies_with_details.csv\")"
   ]
  },
  {
   "cell_type": "code",
   "execution_count": null,
   "id": "42f2dc16",
   "metadata": {},
   "outputs": [],
   "source": [
    "variables = movies_df.columns\n",
    "print(\"Features of the movie:\", variables.values)"
   ]
  },
  {
   "cell_type": "code",
   "execution_count": null,
   "id": "4a48181d",
   "metadata": {},
   "outputs": [],
   "source": [
    "movies_df['Year'] = pd.to_numeric(movies_df['Year'], errors='coerce')\n",
    "\n",
    "movies_df = movies_df[(movies_df['Year'] >= 1984) & (movies_df['Year'] <= 2024)]\n",
    "\n",
    "years = movies_df['Year']\n",
    "min_year = np.min(years)\n",
    "max_year = np.max(years)\n",
    "print(\"Earlist film year:\", min_year)\n",
    "print(\"Most recent film year:\", max_year)"
   ]
  },
  {
   "cell_type": "code",
   "execution_count": null,
   "id": "998c1b9e",
   "metadata": {},
   "outputs": [],
   "source": [
    "movies = len(movies_df)\n",
    "print(\"Number of movies:\", movies)"
   ]
  }
 ],
 "metadata": {
  "language_info": {
   "name": "python"
  }
 },
 "nbformat": 4,
 "nbformat_minor": 5
}
