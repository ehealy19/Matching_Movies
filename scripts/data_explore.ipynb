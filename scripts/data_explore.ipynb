{
 "cells": [
  {
   "cell_type": "code",
   "execution_count": 1,
   "id": "0b013527",
   "metadata": {},
   "outputs": [],
   "source": [
    "import pandas as pd\n",
    "import numpy as np\n",
    "\n",
    "movies_df = pd.read_csv(\"../data/output_data/combined_movies.csv\")"
   ]
  },
  {
   "cell_type": "code",
   "execution_count": 2,
   "id": "42f2dc16",
   "metadata": {},
   "outputs": [
    {
     "name": "stdout",
     "output_type": "stream",
     "text": [
      "Features of the movie: ['Title' 'Year' 'Released' 'Genre' 'Runtime' 'Director' 'Writer' 'Actors'\n",
      " 'Rated' 'IMDB Rating' 'Metascore' 'IMDB Votes' 'Awards' 'Box Office'\n",
      " 'Country' 'Language' 'Description' 'Poster URL' 'Tagline' 'Overview'\n",
      " 'Budget' 'Revenue' 'TMDB Rating' 'Vote Count' 'Production Companies']\n"
     ]
    }
   ],
   "source": [
    "variables = movies_df.columns\n",
    "print(\"Features of the movie:\", variables.values)"
   ]
  },
  {
   "cell_type": "code",
   "execution_count": 3,
   "id": "4a48181d",
   "metadata": {},
   "outputs": [
    {
     "name": "stdout",
     "output_type": "stream",
     "text": [
      "Earlist film year: 1984.0\n",
      "Most recent film year: 2024.0\n"
     ]
    }
   ],
   "source": [
    "movies_df['Year'] = pd.to_numeric(movies_df['Year'], errors='coerce')\n",
    "\n",
    "movies_df = movies_df[(movies_df['Year'] >= 1984) & (movies_df['Year'] <= 2024)]\n",
    "\n",
    "years = movies_df['Year']\n",
    "min_year = np.min(years)\n",
    "max_year = np.max(years)\n",
    "print(\"Earlist film year:\", min_year)\n",
    "print(\"Most recent film year:\", max_year)"
   ]
  },
  {
   "cell_type": "code",
   "execution_count": 4,
   "id": "998c1b9e",
   "metadata": {},
   "outputs": [
    {
     "name": "stdout",
     "output_type": "stream",
     "text": [
      "Number of movies: 4110\n"
     ]
    }
   ],
   "source": [
    "movies = len(movies_df)\n",
    "print(\"Number of movies:\", movies)"
   ]
  }
 ],
 "metadata": {
  "kernelspec": {
   "display_name": "dsan5650",
   "language": "python",
   "name": "python3"
  },
  "language_info": {
   "codemirror_mode": {
    "name": "ipython",
    "version": 3
   },
   "file_extension": ".py",
   "mimetype": "text/x-python",
   "name": "python",
   "nbconvert_exporter": "python",
   "pygments_lexer": "ipython3",
   "version": "3.11.13"
  }
 },
 "nbformat": 4,
 "nbformat_minor": 5
}
