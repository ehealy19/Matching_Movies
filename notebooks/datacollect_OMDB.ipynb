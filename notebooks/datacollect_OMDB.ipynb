{
 "cells": [
  {
   "cell_type": "code",
   "execution_count": 1,
   "metadata": {},
   "outputs": [],
   "source": [
    "#open api \n",
    "#import API key \n",
    "import requests\n",
    "import json\n",
    "import csv\n",
    "with open('../api_key.json') as f:\n",
    "    keys = json.load(f)\n",
    "OMDB_KEY = keys['OMDB_key']"
   ]
  },
  {
   "cell_type": "code",
   "execution_count": 6,
   "metadata": {},
   "outputs": [
    {
     "name": "stdout",
     "output_type": "stream",
     "text": [
      "Movie not found: Den of Thieves 2: Pantera\n",
      "Movie not found: 9Â½ Weeks\n",
      "Movie not found: Now You See Me 3\n",
      "Movie not found: Wicked: Part Two\n",
      "Movie not found: Wicked: Part I\n",
      "Failed to fetch data for: Juror #2\n",
      "Movie not found: The Naked Gun 2Â½: The Smell of Fear\n",
      "Movie not found: Indiana Jones and the Raiders of the Lost Ark\n",
      "Movie not found: Levon's Trade\n",
      "Movie not found: Big Stan\n",
      "Movie not found: Another 9Â½ Weeks\n",
      "Movie not found: Biohazard: Death Island\n",
      "Failed to fetch data for: #FamilyMan\n",
      "Movie not found: The ProtÃ©gÃ©\n",
      "Movie not found: Welcome To Holland\n",
      "Processed 5000 movies. Data saved to ../data/output_data/OMDB/movies_O.csv\n"
     ]
    }
   ],
   "source": [
    "# Input and output file names\n",
    "input_file = \"../data/input_data/file_1.csv\" # File containing the list of movies\n",
    "output_file = \"../data/output_data/OMDB/movies_O.csv\"  # New file with movie details\n",
    "\n",
    "# Start index\n",
    "START_INDEX = 0\n",
    "BATCH_SIZE = 5000   # Number of movies to process in each run\n",
    "\n",
    "# Read all movie titles from the input CSV file\n",
    "with open(input_file, mode=\"r\", encoding=\"utf-8\") as infile:\n",
    "    reader = csv.reader(infile)\n",
    "    movie_titles = [row[0] for row in reader]  # Assuming titles are in the first column\n",
    "\n",
    "# Get the subset of movies to process in this batch\n",
    "movies_to_process = movie_titles[START_INDEX:START_INDEX + BATCH_SIZE]\n",
    "\n",
    "# Open the output file in append mode to continue adding data\n",
    "with open(output_file, mode=\"a\", newline=\"\", encoding=\"utf-8\") as outfile:\n",
    "    writer = csv.writer(outfile)\n",
    "\n",
    "    # If the file is new, add headers\n",
    "    if START_INDEX == 0:  # Only add headers on the first run\n",
    "        writer.writerow([\n",
    "            \"Title\", \"Year\", \"Released\", \"Genre\", \"Runtime\", \"Director\", \"Writer\", \"Actors\",\n",
    "            \"Rated\", \"IMDB Rating\", \"Metascore\", \"IMDB Votes\", \"Awards\", \"Box Office\",\n",
    "            \"Country\", \"Language\", \"Description\", \"Poster URL\"\n",
    "        ])\n",
    "\n",
    "    for movie_title in movies_to_process:\n",
    "        # Construct the OMDB API request URL\n",
    "        url = f\"http://www.omdbapi.com/?t={movie_title}&apikey={OMDB_KEY}&plot=full\"\n",
    "\n",
    "        # Send request\n",
    "        response = requests.get(url)\n",
    "\n",
    "        if response.status_code == 200:  # If request is successful\n",
    "            movie_data = response.json()\n",
    "\n",
    "            if movie_data['Response'] == 'True':\n",
    "                # Write movie details to CSV\n",
    "                writer.writerow([\n",
    "                    movie_data.get('Title', 'N/A'),\n",
    "                    movie_data.get('Year', 'N/A'),\n",
    "                    movie_data.get('Released', 'N/A'),\n",
    "                    movie_data.get('Genre', 'N/A'),\n",
    "                    movie_data.get('Runtime', 'N/A'),\n",
    "                    movie_data.get('Director', 'N/A'),\n",
    "                    movie_data.get('Writer', 'N/A'),\n",
    "                    movie_data.get('Actors', 'N/A'),\n",
    "                    movie_data.get('Rated', 'N/A'),\n",
    "                    movie_data.get('imdbRating', 'N/A'),\n",
    "                    movie_data.get('Metascore', 'N/A'),\n",
    "                    movie_data.get('imdbVotes', 'N/A'),\n",
    "                    movie_data.get('Awards', 'N/A'),\n",
    "                    movie_data.get('BoxOffice', 'N/A'),\n",
    "                    movie_data.get('Country', 'N/A'),\n",
    "                    movie_data.get('Language', 'N/A'),\n",
    "                    movie_data.get('Plot', 'N/A'),\n",
    "                    movie_data.get('Poster', 'N/A')\n",
    "                ])\n",
    "            else:\n",
    "                print(f\"Movie not found: {movie_title}\")\n",
    "        else:\n",
    "            print(f\"Failed to fetch data for: {movie_title}\")\n",
    "\n",
    "print(f\"Processed {len(movies_to_process)} movies. Data saved to {output_file}\")"
   ]
  }
 ],
 "metadata": {
  "kernelspec": {
   "display_name": "dsan5650",
   "language": "python",
   "name": "python3"
  },
  "language_info": {
   "codemirror_mode": {
    "name": "ipython",
    "version": 3
   },
   "file_extension": ".py",
   "mimetype": "text/x-python",
   "name": "python",
   "nbconvert_exporter": "python",
   "pygments_lexer": "ipython3",
   "version": "3.11.13"
  }
 },
 "nbformat": 4,
 "nbformat_minor": 2
}
