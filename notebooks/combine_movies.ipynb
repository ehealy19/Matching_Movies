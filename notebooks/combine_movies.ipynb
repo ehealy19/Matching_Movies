{
 "cells": [
  {
   "cell_type": "code",
   "execution_count": 4,
   "id": "74be3793",
   "metadata": {},
   "outputs": [],
   "source": [
    "import pandas as pd\n",
    "\n",
    "# Reading both of the CSV files\n",
    "OMDB_movies = pd.read_csv(\"../data/output_data/OMDB/movies_O.csv\")\n",
    "TMDB_movies = pd.read_csv(\"../data/output_data/TMDB/movies_T.csv\")\n",
    "\n",
    "# Merging the dataframes on the movie title\n",
    "merged_df = pd.merge(OMDB_movies, TMDB_movies, on=\"Title\")\n",
    "\n",
    "# exporting merged csv\n",
    "merged_df.to_csv(\"../data/output_data/combined_movies.csv\", index=False)"
   ]
  }
 ],
 "metadata": {
  "kernelspec": {
   "display_name": "dsan5650",
   "language": "python",
   "name": "python3"
  },
  "language_info": {
   "codemirror_mode": {
    "name": "ipython",
    "version": 3
   },
   "file_extension": ".py",
   "mimetype": "text/x-python",
   "name": "python",
   "nbconvert_exporter": "python",
   "pygments_lexer": "ipython3",
   "version": "3.11.13"
  }
 },
 "nbformat": 4,
 "nbformat_minor": 5
}
