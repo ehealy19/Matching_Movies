{
 "cells": [
  {
   "cell_type": "markdown",
   "metadata": {},
   "source": [
    "# Collecting the Data"
   ]
  },
  {
   "cell_type": "markdown",
   "metadata": {},
   "source": [
    "## Collecting the OMDb Data"
   ]
  },
  {
   "cell_type": "code",
   "execution_count": null,
   "metadata": {},
   "outputs": [],
   "source": [
    "import requests\n",
    "import json\n",
    "import csv\n",
    "\n",
    "# loading API key from a JSON file\n",
    "with open('../api_key.json') as f:\n",
    "    keys = json.load(f)\n",
    "OMDB_KEY = keys['OMDB_key']"
   ]
  },
  {
   "cell_type": "code",
   "execution_count": null,
   "metadata": {},
   "outputs": [
    {
     "name": "stdout",
     "output_type": "stream",
     "text": [
      "Movie not found: Den of Thieves 2: Pantera\n",
      "Movie not found: 9Â½ Weeks\n",
      "Movie not found: Now You See Me 3\n",
      "Movie not found: Wicked: Part Two\n",
      "Movie not found: Wicked: Part I\n",
      "Failed to fetch data for: Juror #2\n",
      "Movie not found: The Naked Gun 2Â½: The Smell of Fear\n",
      "Movie not found: Indiana Jones and the Raiders of the Lost Ark\n",
      "Movie not found: Levon's Trade\n",
      "Movie not found: Big Stan\n",
      "Movie not found: Another 9Â½ Weeks\n",
      "Movie not found: Biohazard: Death Island\n",
      "Failed to fetch data for: #FamilyMan\n",
      "Movie not found: The ProtÃ©gÃ©\n",
      "Movie not found: Welcome To Holland\n",
      "Processed 5000 movies. Data saved to ../data/output_data/OMDB/movies_O.csv\n"
     ]
    }
   ],
   "source": [
    "# setting input and output file names\n",
    "input_file = \"../data/input_data/file_1.csv\" # file containing the list of movies\n",
    "output_file = \"../data/output_data/OMDB/movies_O.csv\"  # new file with movie details\n",
    "\n",
    "START_INDEX = 0\n",
    "BATCH_SIZE = 5000   # number of movies to process in each run\n",
    "\n",
    "# reading all movie titles from the input CSV file\n",
    "with open(input_file, mode=\"r\", encoding=\"utf-8\") as infile:\n",
    "    reader = csv.reader(infile)\n",
    "    movie_titles = [row[0] for row in reader]  # assuming titles are in the first column\n",
    "\n",
    "# getting subset of movies to process in batch\n",
    "movies_to_process = movie_titles[START_INDEX:START_INDEX + BATCH_SIZE]\n",
    "\n",
    "# adding data to ouput file\n",
    "with open(output_file, mode=\"a\", newline=\"\", encoding=\"utf-8\") as outfile:\n",
    "    writer = csv.writer(outfile)\n",
    "\n",
    "    if START_INDEX == 0:  # only add headers on the first run\n",
    "        writer.writerow([\n",
    "            \"Title\", \"Year\", \"Released\", \"Genre\", \"Runtime\", \"Director\", \"Writer\", \"Actors\",\n",
    "            \"Rated\", \"IMDB Rating\", \"Metascore\", \"IMDB Votes\", \"Awards\", \"Box Office\",\n",
    "            \"Country\", \"Language\", \"Description\", \"Poster URL\"\n",
    "        ])\n",
    "\n",
    "    for movie_title in movies_to_process:\n",
    "        url = f\"http://www.omdbapi.com/?t={movie_title}&apikey={OMDB_KEY}&plot=full\"\n",
    "        response = requests.get(url)\n",
    "\n",
    "        if response.status_code == 200: # check request worked\n",
    "            movie_data = response.json()\n",
    "\n",
    "            if movie_data['Response'] == 'True':\n",
    "                # getting the movie details\n",
    "                writer.writerow([\n",
    "                    movie_data.get('Title', 'N/A'),\n",
    "                    movie_data.get('Year', 'N/A'),\n",
    "                    movie_data.get('Released', 'N/A'),\n",
    "                    movie_data.get('Genre', 'N/A'),\n",
    "                    movie_data.get('Runtime', 'N/A'),\n",
    "                    movie_data.get('Director', 'N/A'),\n",
    "                    movie_data.get('Writer', 'N/A'),\n",
    "                    movie_data.get('Actors', 'N/A'),\n",
    "                    movie_data.get('Rated', 'N/A'),\n",
    "                    movie_data.get('imdbRating', 'N/A'),\n",
    "                    movie_data.get('Metascore', 'N/A'),\n",
    "                    movie_data.get('imdbVotes', 'N/A'),\n",
    "                    movie_data.get('Awards', 'N/A'),\n",
    "                    movie_data.get('BoxOffice', 'N/A'),\n",
    "                    movie_data.get('Country', 'N/A'),\n",
    "                    movie_data.get('Language', 'N/A'),\n",
    "                    movie_data.get('Plot', 'N/A'),\n",
    "                    movie_data.get('Poster', 'N/A')\n",
    "                ])\n",
    "            else:\n",
    "                print(f\"Movie not found: {movie_title}\")\n",
    "        else:\n",
    "            print(f\"Failed to fetch data for: {movie_title}\")\n",
    "\n",
    "print(f\"Processed {len(movies_to_process)} movies. Data saved to {output_file}\")"
   ]
  },
  {
   "cell_type": "markdown",
   "metadata": {},
   "source": [
    "## Collecting the TMBD Data"
   ]
  },
  {
   "cell_type": "code",
   "execution_count": null,
   "metadata": {},
   "outputs": [],
   "source": [
    "# loading the TMDb API key from the JSON file\n",
    "with open('../api_key.json') as f:\n",
    "    keys = json.load(f)\n",
    "TMDB_KEY = keys['TMDB_key']"
   ]
  },
  {
   "cell_type": "code",
   "execution_count": null,
   "metadata": {},
   "outputs": [],
   "source": [
    "# setting input and output file names\n",
    "input_file = \"../data/input_data/file_1.csv\"         # file containing the list of movies\n",
    "output_file = \"../data/output_data/TMDB/movies_T.csv\"  # new file with movie details\n",
    "\n",
    "START_INDEX = 0 \n",
    "BATCH_SIZE = 5000   # number of movies to process in each run\n",
    "\n",
    "# reading all movie titles from the input CSV file\n",
    "with open(input_file, mode=\"r\", encoding=\"utf-8\") as infile:\n",
    "    reader = csv.reader(infile)\n",
    "    movie_titles = [row[0] for row in reader]  # assuming titles are in the first column\n",
    "\n",
    "# getting subset of movies to process in batch\n",
    "movies_to_process = movie_titles[START_INDEX:START_INDEX + BATCH_SIZE]\n",
    "\n",
    "# adding data to ouput file\n",
    "with open(output_file, mode=\"a\", newline=\"\", encoding=\"utf-8\") as outfile:\n",
    "    writer = csv.writer(outfile)\n",
    "\n",
    "    if START_INDEX == 0:  # only add headers on the first run\n",
    "        writer.writerow([\n",
    "            \"Title\", \"Tagline\", \"Overview\", \"Budget\", \"Revenue\", \"TMDB Rating\", \"Vote Count\", \"Production Companies\"\n",
    "        ])\n",
    "\n",
    "    for movie_title in movies_to_process:\n",
    "        # search for the movie by title\n",
    "        search_url = \"https://api.themoviedb.org/3/search/movie\"\n",
    "        params = {\"api_key\": TMDB_KEY, \"query\": movie_title}\n",
    "        search_response = requests.get(search_url, params=params)\n",
    "\n",
    "        if search_response.status_code == 200 and search_response.json()[\"results\"]:\n",
    "            movie_id = search_response.json()[\"results\"][0][\"id\"]\n",
    "\n",
    "            # getting the movie details\n",
    "            details_url = f\"https://api.themoviedb.org/3/movie/{movie_id}\"\n",
    "            details_params = {\"api_key\": TMDB_KEY}\n",
    "            details_response = requests.get(details_url, params=details_params)\n",
    "\n",
    "            if details_response.status_code == 200:\n",
    "                data = details_response.json()\n",
    "\n",
    "                title = data.get(\"title\", \"N/A\")\n",
    "                tagline = data.get(\"tagline\", \"N/A\")\n",
    "                overview = data.get(\"overview\", \"N/A\")\n",
    "                budget = data.get(\"budget\", \"N/A\")\n",
    "                revenue = data.get(\"revenue\", \"N/A\")\n",
    "                vote_average = data.get(\"vote_average\", \"N/A\")\n",
    "                vote_count = data.get(\"vote_count\", \"N/A\")\n",
    "                production_companies = \", \".join([c[\"name\"] for c in data.get(\"production_companies\", [])])\n",
    "\n",
    "                writer.writerow([\n",
    "                    title,\n",
    "                    tagline,\n",
    "                    overview,\n",
    "                    budget,\n",
    "                    revenue,\n",
    "                    vote_average,\n",
    "                    vote_count,\n",
    "                    production_companies\n",
    "                ])\n",
    "\n",
    "                print(f\"✓ Processed: {movie_title}\")\n",
    "            else:\n",
    "                print(f\"✗ Failed to get details for: {movie_title}\")\n",
    "        else:\n",
    "            print(f\"✗ Movie not found: {movie_title}\")\n",
    "\n",
    "print(f\"Processed {len(movies_to_process)} movies.\")"
   ]
  },
  {
   "cell_type": "markdown",
   "metadata": {},
   "source": [
    "## Combining both the datasets"
   ]
  },
  {
   "cell_type": "code",
   "execution_count": null,
   "metadata": {},
   "outputs": [],
   "source": [
    "import pandas as pd\n",
    "\n",
    "# reading both files\n",
    "OMDB_movies = pd.read_csv(\"../data/output_data/OMDB/movies_O.csv\")\n",
    "TMDB_movies = pd.read_csv(\"../data/output_data/TMDB/movies_T.csv\")\n",
    "\n",
    "# merging on the movie title\n",
    "merged_df = pd.merge(OMDB_movies, TMDB_movies, on=\"Title\")\n",
    "\n",
    "# exporting merged csv\n",
    "merged_df.to_csv(\"../data/output_data/combined_movies.csv\", index=False)"
   ]
  },
  {
   "cell_type": "markdown",
   "metadata": {},
   "source": [
    "## Exploring the Collected Data"
   ]
  },
  {
   "cell_type": "code",
   "execution_count": null,
   "metadata": {},
   "outputs": [],
   "source": [
    "import pandas as pd\n",
    "import numpy as np\n",
    "\n",
    "# reading in the combined data\n",
    "movies_df = pd.read_csv(\"../data/output_data/combined_movies.csv\")"
   ]
  },
  {
   "cell_type": "code",
   "execution_count": null,
   "metadata": {},
   "outputs": [
    {
     "name": "stdout",
     "output_type": "stream",
     "text": [
      "Features of the movie: ['Title' 'Year' 'Released' 'Genre' 'Runtime' 'Director' 'Writer' 'Actors'\n",
      " 'Rated' 'IMDB Rating' 'Metascore' 'IMDB Votes' 'Awards' 'Box Office'\n",
      " 'Country' 'Language' 'Description' 'Poster URL' 'Tagline' 'Overview'\n",
      " 'Budget' 'Revenue' 'TMDB Rating' 'Vote Count' 'Production Companies']\n"
     ]
    }
   ],
   "source": [
    "# looking at the variables\n",
    "variables = movies_df.columns\n",
    "print(\"Features of the movie:\", variables.values)"
   ]
  },
  {
   "cell_type": "code",
   "execution_count": null,
   "metadata": {},
   "outputs": [
    {
     "name": "stdout",
     "output_type": "stream",
     "text": [
      "Earlist film year: 1984.0\n",
      "Most recent film year: 2024.0\n"
     ]
    }
   ],
   "source": [
    "# getting the min and max year of the movies\n",
    "# keeping only 1984 to 2024\n",
    "movies_df['Year'] = pd.to_numeric(movies_df['Year'], errors='coerce')\n",
    "movies_df = movies_df[(movies_df['Year'] >= 1984) & (movies_df['Year'] <= 2024)]\n",
    "\n",
    "years = movies_df['Year']\n",
    "min_year = np.min(years)\n",
    "max_year = np.max(years)\n",
    "print(\"Earlist film year:\", min_year)\n",
    "print(\"Most recent film year:\", max_year)"
   ]
  },
  {
   "cell_type": "code",
   "execution_count": null,
   "metadata": {},
   "outputs": [
    {
     "name": "stdout",
     "output_type": "stream",
     "text": [
      "Number of movies: 4110\n"
     ]
    }
   ],
   "source": [
    "# seeing how many movies are in the data\n",
    "movies = len(movies_df)\n",
    "print(\"Number of movies:\", movies)"
   ]
  }
 ],
 "metadata": {
  "kernelspec": {
   "display_name": "dsan5650",
   "language": "python",
   "name": "python3"
  },
  "language_info": {
   "codemirror_mode": {
    "name": "ipython",
    "version": 3
   },
   "file_extension": ".py",
   "mimetype": "text/x-python",
   "name": "python",
   "nbconvert_exporter": "python",
   "pygments_lexer": "ipython3",
   "version": "3.11.13"
  }
 },
 "nbformat": 4,
 "nbformat_minor": 2
}
