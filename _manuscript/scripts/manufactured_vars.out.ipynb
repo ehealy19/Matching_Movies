{
  "cells": [
    {
      "cell_type": "markdown",
      "metadata": {},
      "source": [
        "# Performing Sentiment Analysis on Description, Tagline, and Overview"
      ],
      "id": "84bed735-8e3d-461f-bba4-2ee55656ae70"
    },
    {
      "cell_type": "code",
      "execution_count": 9,
      "metadata": {},
      "outputs": [
        {
          "output_type": "stream",
          "name": "stderr",
          "text": [
            "Device set to use cpu"
          ]
        }
      ],
      "source": [
        "from transformers import pipeline\n",
        "\n",
        "classifier = pipeline(\n",
        "    \"sentiment-analysis\", \n",
        "    model=\"distilbert-base-uncased-finetuned-sst-2-english\",\n",
        "    truncation=True\n",
        "    )"
      ],
      "id": "32e1727a"
    },
    {
      "cell_type": "code",
      "execution_count": 10,
      "metadata": {},
      "outputs": [],
      "source": [
        "import pandas as pd\n",
        "import numpy as np\n",
        "\n",
        "movies_df = pd.read_csv(\"../data/output_data/clean_movies.csv\")\n",
        "\n",
        "#Description Sentiment Analysis\n",
        "movies_df[\"Descr_Sentiment\"] = movies_df[\"Description\"].apply(lambda x: classifier(x)[0][\"label\"])"
      ],
      "id": "dcfdd68f"
    },
    {
      "cell_type": "code",
      "execution_count": 11,
      "metadata": {},
      "outputs": [],
      "source": [
        "# Overview Sentiment Analysis\n",
        "movies_df[\"Tagline_Sentiment\"] = movies_df[\"Tagline\"].apply(lambda x: classifier(x)[0][\"label\"])"
      ],
      "id": "95dbfeb0"
    },
    {
      "cell_type": "code",
      "execution_count": 13,
      "metadata": {},
      "outputs": [
        {
          "output_type": "stream",
          "name": "stderr",
          "text": [
            "/var/folders/f7/px3ynpyn7l3g5j59yyvbggrw0000gn/T/ipykernel_33281/2660690932.py:2: FutureWarning: Downcasting behavior in `replace` is deprecated and will be removed in a future version. To retain the old behavior, explicitly call `result.infer_objects(copy=False)`. To opt-in to the future behavior, set `pd.set_option('future.no_silent_downcasting', True)`\n",
            "  movies_df[\"Descr_Sentiment\"] = movies_df[\"Descr_Sentiment\"].replace({\"NEGATIVE\": 0, \"POSITIVE\": 1})\n",
            "/var/folders/f7/px3ynpyn7l3g5j59yyvbggrw0000gn/T/ipykernel_33281/2660690932.py:3: FutureWarning: Downcasting behavior in `replace` is deprecated and will be removed in a future version. To retain the old behavior, explicitly call `result.infer_objects(copy=False)`. To opt-in to the future behavior, set `pd.set_option('future.no_silent_downcasting', True)`\n",
            "  movies_df[\"Tagline_Sentiment\"] = movies_df[\"Tagline_Sentiment\"].replace({\"NEGATIVE\": 0, \"POSITIVE\": 1})"
          ]
        }
      ],
      "source": [
        "# converting the neg/pos to label 0/1\n",
        "movies_df[\"Descr_Sentiment\"] = movies_df[\"Descr_Sentiment\"].replace({\"NEGATIVE\": 0, \"POSITIVE\": 1})\n",
        "movies_df[\"Tagline_Sentiment\"] = movies_df[\"Tagline_Sentiment\"].replace({\"NEGATIVE\": 0, \"POSITIVE\": 1})"
      ],
      "id": "690dcd80"
    },
    {
      "cell_type": "code",
      "execution_count": 14,
      "metadata": {},
      "outputs": [],
      "source": [
        "# dropping the original columns\n",
        "movies_df = movies_df.drop(columns=[\"Tagline\", \"Description\"])"
      ],
      "id": "89dc0bcb"
    },
    {
      "cell_type": "code",
      "execution_count": 15,
      "metadata": {},
      "outputs": [],
      "source": [
        "movies_df.to_csv(\"../data/output_data/clean_movies_sent.csv\", index=False)"
      ],
      "id": "f8a63b6d"
    },
    {
      "cell_type": "markdown",
      "metadata": {},
      "source": [
        "## Creating the Starpower Variable"
      ],
      "id": "6a5de5b8-ea94-442e-b50f-0d7af601a93f"
    },
    {
      "cell_type": "code",
      "execution_count": null,
      "metadata": {},
      "outputs": [],
      "source": [
        "import pandas as pd\n",
        "import numpy as np\n",
        "\n",
        "movies_df = pd.read_csv(\"../data/output_data/clean_movies_sent_fem.csv\")"
      ],
      "id": "d8c18a23"
    },
    {
      "cell_type": "code",
      "execution_count": null,
      "metadata": {},
      "outputs": [],
      "source": [
        "# Loading in the list of A-list and B-list actors/actresses \n",
        "a_list_actors_df = pd.read_csv(\"../data/input_data/a_list_actors.csv\")\n",
        "a_list_actresses_df = pd.read_csv(\"../data/input_data/a_list_actresses.csv\")\n",
        "b_list_df = pd.read_csv(\"../data/input_data/b_list.csv\")\n",
        "\n",
        "# taking just the names from the dataframes\n",
        "a_list_actors = a_list_actors_df['Name'].tolist()\n",
        "a_list_actors = pd.DataFrame(a_list_actors, columns=['Name'])\n",
        "\n",
        "a_list_actresses = a_list_actresses_df['Name'].tolist()\n",
        "a_list_actresses = pd.DataFrame(a_list_actresses, columns=['Name'])\n",
        "\n",
        "b_list = b_list_df['Name'].tolist()\n",
        "b_list = pd.DataFrame(b_list, columns=['Name'])\n",
        "\n",
        "# combining the A-list actors and actresses into one dataframe\n",
        "a_list = pd.concat([a_list_actors, a_list_actresses], ignore_index=True)\n",
        "\n",
        "print(a_list.head(5))\n",
        "print(b_list.head(5))\n",
        "\n",
        "num_a_list = len(a_list)\n",
        "num_b_list = len(b_list)\n",
        "\n",
        "print(f'Number of A-listers: {num_a_list}')\n",
        "print(f'Number of b-listers: {num_b_list}')"
      ],
      "id": "8f095867"
    },
    {
      "cell_type": "code",
      "execution_count": null,
      "metadata": {},
      "outputs": [],
      "source": [
        "# Creating the variable to calculate the starpower metric\n",
        "\n",
        "# splitting to get all four actors/actresses into separate columns\n",
        "if movies_df['Actors'].notna().any():\n",
        "    actors_split = movies_df['Actors'].str.split(',', expand=True)\n",
        "    movies_df['actor1'] = actors_split[0].str.strip()\n",
        "    movies_df['actor2'] = actors_split[1].str.strip()\n",
        "    movies_df['actor3'] = actors_split[2].str.strip()\n",
        "else:\n",
        "    print(\"The 'Actors' column is empty or missing.\")\n",
        "\n",
        "# creating the metric column\n",
        "movies_df['starpower'] = 0\n",
        "\n",
        "# Check if the first actor is in the a-list\n",
        "movies_df.loc[movies_df['actor1'].isin(a_list['Name'].values), 'starpower'] += 2\n",
        "movies_df.loc[movies_df['actor2'].isin(a_list['Name'].values), 'starpower'] += 2\n",
        "movies_df.loc[movies_df['actor3'].isin(a_list['Name'].values), 'starpower'] += 2\n",
        "\n",
        "movies_df.loc[movies_df['actor1'].isin(b_list['Name'].values), 'starpower'] += 1\n",
        "movies_df.loc[movies_df['actor2'].isin(b_list['Name'].values), 'starpower'] += 1\n",
        "movies_df.loc[movies_df['actor3'].isin(b_list['Name'].values), 'starpower'] += 1\n",
        "\n",
        "# making it an average value\n",
        "movies_df['starpower'] = movies_df['starpower'] / 3\n",
        "\n",
        "# checking the new variable\n",
        "print(movies_df[['actor1', 'actor2', 'actor3', 'starpower']].head(10))\n",
        "\n",
        "# dropping the actor columns\n",
        "movies_df = movies_df.drop(columns=[\"actor1\", \"actor2\", \"actor3\", \"Actors\"])"
      ],
      "id": "09f1749b"
    },
    {
      "cell_type": "code",
      "execution_count": null,
      "metadata": {},
      "outputs": [],
      "source": [
        "movies_df.to_csv(\"../data/output_data/clean_movies_sent_fem_star.csv\", index=False)"
      ],
      "id": "adc7fff3"
    },
    {
      "cell_type": "markdown",
      "metadata": {},
      "source": [
        "## Creating the Female Actress Lead Variable"
      ],
      "id": "70e474b9-bfcd-421d-bcc1-8680b83aeb96"
    },
    {
      "cell_type": "code",
      "execution_count": null,
      "metadata": {},
      "outputs": [],
      "source": [
        "import pandas as pd\n",
        "import numpy as np\n",
        "\n",
        "movies_df = pd.read_csv(\"../data/output_data/clean_movies_sent.csv\")"
      ],
      "id": "a2e6e662"
    },
    {
      "cell_type": "code",
      "execution_count": null,
      "metadata": {},
      "outputs": [],
      "source": [
        "# checking how accurate the first listed actor/actress is in terms of being the star or main character\n",
        "first_actors = movies_df['Actors'].str.split(',').str[0].str.strip()\n",
        "print(first_actors.head(20))\n",
        "\n",
        "print(movies_df['Title'].head(20))"
      ],
      "id": "47e84c48"
    },
    {
      "cell_type": "code",
      "execution_count": null,
      "metadata": {},
      "outputs": [],
      "source": [
        "# getting the female actresses names from excel file\n",
        "\n",
        "# opening the file\n",
        "female_df = pd.read_excel(\"../data/input_data/female_actresses.xlsx\")\n",
        "female_df = female_df.rename(columns={'A': 'Name'})\n",
        "\n",
        "# splitting to get the names only\n",
        "female_df['Name'] = female_df['Name'].str.split(' born').str[0].str.split(r'\\d').str[0].str.strip()\n",
        "\n",
        "# deleting the rows that are just the letter headers\n",
        "female_df = female_df[~female_df['Name'].isin(list('ABCDEFGHIJKLMNOPQRSTUVWXYZ'))]\n",
        "\n",
        "num_actresses = len(female_df)\n",
        "print(f'There are {num_actresses} actresses in the list')"
      ],
      "id": "f5cfec6d"
    },
    {
      "cell_type": "code",
      "execution_count": null,
      "metadata": {},
      "outputs": [],
      "source": [
        "# Creating the variable to indicate if first actor is female\n",
        "first_actors = movies_df['Actors'].str.split(',').str[0].str.strip()\n",
        "movies_df['First_Actor'] = first_actors\n",
        "\n",
        "# Check if the first actor is in the female name list\n",
        "movies_df['Female_Lead'] = movies_df['First_Actor'].apply(lambda x: int(any(name in x for name in female_df['Name'])))\n",
        "\n",
        "# checking the new variable\n",
        "print(movies_df[['Title', 'First_Actor', 'Female_Lead']].head(10))\n",
        "print(movies_df[['Title', 'First_Actor', 'Female_Lead']].tail(10))\n",
        "\n",
        "# dropping the first_Actor column\n",
        "movies_df = movies_df.drop(columns=[\"First_Actor\"])"
      ],
      "id": "7e94a27b"
    },
    {
      "cell_type": "code",
      "execution_count": null,
      "metadata": {},
      "outputs": [],
      "source": [
        "# Count of the split\n",
        "female_lead_count = movies_df['Female_Lead'].value_counts()\n",
        "print(female_lead_count)"
      ],
      "id": "d0d0f60d"
    },
    {
      "cell_type": "code",
      "execution_count": null,
      "metadata": {},
      "outputs": [],
      "source": [
        "movies_df.to_csv(\"../data/output_data/clean_movies_sent_fem.csv\", index=False)"
      ],
      "id": "60497a4f"
    }
  ],
  "nbformat": 4,
  "nbformat_minor": 5,
  "metadata": {
    "kernelspec": {
      "name": "python3",
      "display_name": "dsan5650",
      "language": "python"
    },
    "language_info": {
      "name": "python",
      "codemirror_mode": {
        "name": "ipython",
        "version": "3"
      },
      "file_extension": ".py",
      "mimetype": "text/x-python",
      "nbconvert_exporter": "python",
      "pygments_lexer": "ipython3",
      "version": "3.11.13"
    }
  }
}