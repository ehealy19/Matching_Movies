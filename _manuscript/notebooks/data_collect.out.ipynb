{
  "cells": [
    {
      "cell_type": "markdown",
      "metadata": {},
      "source": [
        "# Collecting the Data\n",
        "\n",
        "## Collecting the OMDb Data"
      ],
      "id": "d00a4933-a9c7-4a92-b771-9721808c2b88"
    },
    {
      "cell_type": "code",
      "execution_count": null,
      "metadata": {},
      "outputs": [],
      "source": [
        "import requests\n",
        "import json\n",
        "import csv\n",
        "\n",
        "with open('../api_key.json') as f:\n",
        "    keys = json.load(f)\n",
        "OMDB_KEY = keys['OMDB_key']"
      ],
      "id": "cell-3"
    },
    {
      "cell_type": "code",
      "execution_count": 6,
      "metadata": {},
      "outputs": [
        {
          "output_type": "stream",
          "name": "stdout",
          "text": [
            "Movie not found: Den of Thieves 2: Pantera\n",
            "Movie not found: 9Â½ Weeks\n",
            "Movie not found: Now You See Me 3\n",
            "Movie not found: Wicked: Part Two\n",
            "Movie not found: Wicked: Part I\n",
            "Failed to fetch data for: Juror #2\n",
            "Movie not found: The Naked Gun 2Â½: The Smell of Fear\n",
            "Movie not found: Indiana Jones and the Raiders of the Lost Ark\n",
            "Movie not found: Levon's Trade\n",
            "Movie not found: Big Stan\n",
            "Movie not found: Another 9Â½ Weeks\n",
            "Movie not found: Biohazard: Death Island\n",
            "Failed to fetch data for: #FamilyMan\n",
            "Movie not found: The ProtÃ©gÃ©\n",
            "Movie not found: Welcome To Holland\n",
            "Processed 5000 movies. Data saved to ../data/output_data/OMDB/movies_O.csv"
          ]
        }
      ],
      "source": [
        "# Input and output file names\n",
        "input_file = \"../data/input_data/file_1.csv\" # File containing the list of movies\n",
        "output_file = \"../data/output_data/OMDB/movies_O.csv\"  # New file with movie details\n",
        "\n",
        "# Start index\n",
        "START_INDEX = 0\n",
        "BATCH_SIZE = 5000   # Number of movies to process in each run\n",
        "\n",
        "# Read all movie titles from the input CSV file\n",
        "with open(input_file, mode=\"r\", encoding=\"utf-8\") as infile:\n",
        "    reader = csv.reader(infile)\n",
        "    movie_titles = [row[0] for row in reader]  # Assuming titles are in the first column\n",
        "\n",
        "# Get the subset of movies to process in this batch\n",
        "movies_to_process = movie_titles[START_INDEX:START_INDEX + BATCH_SIZE]\n",
        "\n",
        "# Open the output file in append mode to continue adding data\n",
        "with open(output_file, mode=\"a\", newline=\"\", encoding=\"utf-8\") as outfile:\n",
        "    writer = csv.writer(outfile)\n",
        "\n",
        "    # If the file is new, add headers\n",
        "    if START_INDEX == 0:  # Only add headers on the first run\n",
        "        writer.writerow([\n",
        "            \"Title\", \"Year\", \"Released\", \"Genre\", \"Runtime\", \"Director\", \"Writer\", \"Actors\",\n",
        "            \"Rated\", \"IMDB Rating\", \"Metascore\", \"IMDB Votes\", \"Awards\", \"Box Office\",\n",
        "            \"Country\", \"Language\", \"Description\", \"Poster URL\"\n",
        "        ])\n",
        "\n",
        "    for movie_title in movies_to_process:\n",
        "        # Construct the OMDB API request URL\n",
        "        url = f\"http://www.omdbapi.com/?t={movie_title}&apikey={OMDB_KEY}&plot=full\"\n",
        "\n",
        "        # Send request\n",
        "        response = requests.get(url)\n",
        "\n",
        "        if response.status_code == 200:  # If request is successful\n",
        "            movie_data = response.json()\n",
        "\n",
        "            if movie_data['Response'] == 'True':\n",
        "                # Write movie details to CSV\n",
        "                writer.writerow([\n",
        "                    movie_data.get('Title', 'N/A'),\n",
        "                    movie_data.get('Year', 'N/A'),\n",
        "                    movie_data.get('Released', 'N/A'),\n",
        "                    movie_data.get('Genre', 'N/A'),\n",
        "                    movie_data.get('Runtime', 'N/A'),\n",
        "                    movie_data.get('Director', 'N/A'),\n",
        "                    movie_data.get('Writer', 'N/A'),\n",
        "                    movie_data.get('Actors', 'N/A'),\n",
        "                    movie_data.get('Rated', 'N/A'),\n",
        "                    movie_data.get('imdbRating', 'N/A'),\n",
        "                    movie_data.get('Metascore', 'N/A'),\n",
        "                    movie_data.get('imdbVotes', 'N/A'),\n",
        "                    movie_data.get('Awards', 'N/A'),\n",
        "                    movie_data.get('BoxOffice', 'N/A'),\n",
        "                    movie_data.get('Country', 'N/A'),\n",
        "                    movie_data.get('Language', 'N/A'),\n",
        "                    movie_data.get('Plot', 'N/A'),\n",
        "                    movie_data.get('Poster', 'N/A')\n",
        "                ])\n",
        "            else:\n",
        "                print(f\"Movie not found: {movie_title}\")\n",
        "        else:\n",
        "            print(f\"Failed to fetch data for: {movie_title}\")\n",
        "\n",
        "print(f\"Processed {len(movies_to_process)} movies. Data saved to {output_file}\")"
      ],
      "id": "cell-4"
    },
    {
      "cell_type": "markdown",
      "metadata": {},
      "source": [
        "## Collecting the TMBD Data"
      ],
      "id": "3a66a975-43ec-4977-aff7-bddb1b3bf4ae"
    },
    {
      "cell_type": "code",
      "execution_count": null,
      "metadata": {},
      "outputs": [],
      "source": [
        "with open('../api_key.json') as f:\n",
        "    keys = json.load(f)\n",
        "TMDB_KEY = keys['TMDB_key']"
      ],
      "id": "cell-6"
    },
    {
      "cell_type": "code",
      "execution_count": null,
      "metadata": {},
      "outputs": [],
      "source": [
        "# Input and output file names\n",
        "input_file = \"../data/input_data/file_1.csv\"         # File containing the list of movies\n",
        "output_file = \"../data/output_data/TMDB/movies_T.csv\"  # New file with movie details\n",
        "\n",
        "# Start index\n",
        "START_INDEX = 0  # Process from movie #1001 onward\n",
        "BATCH_SIZE = 5000   # Number of movies to process in each run\n",
        "\n",
        "# Read all movie titles from the input CSV file\n",
        "with open(input_file, mode=\"r\", encoding=\"utf-8\") as infile:\n",
        "    reader = csv.reader(infile)\n",
        "    movie_titles = [row[0] for row in reader]  # Assuming titles are in the first column\n",
        "\n",
        "# Get the subset of movies to process in this batch\n",
        "movies_to_process = movie_titles[START_INDEX:START_INDEX + BATCH_SIZE]\n",
        "\n",
        "# Open the output file in append mode to continue adding data\n",
        "with open(output_file, mode=\"a\", newline=\"\", encoding=\"utf-8\") as outfile:\n",
        "    writer = csv.writer(outfile)\n",
        "\n",
        "    # If the file is new, add headers\n",
        "    if START_INDEX == 0:\n",
        "        writer.writerow([\n",
        "            \"Title\", \"Tagline\", \"Overview\", \"Budget\", \"Revenue\", \"TMDB Rating\", \"Vote Count\", \"Production Companies\"\n",
        "        ])\n",
        "\n",
        "    for movie_title in movies_to_process:\n",
        "        # Search for the movie by title\n",
        "        search_url = \"https://api.themoviedb.org/3/search/movie\"\n",
        "        params = {\"api_key\": TMDB_KEY, \"query\": movie_title}\n",
        "        search_response = requests.get(search_url, params=params)\n",
        "\n",
        "        if search_response.status_code == 200 and search_response.json()[\"results\"]:\n",
        "            movie_id = search_response.json()[\"results\"][0][\"id\"]\n",
        "\n",
        "            # Get detailed info\n",
        "            details_url = f\"https://api.themoviedb.org/3/movie/{movie_id}\"\n",
        "            details_params = {\"api_key\": TMDB_KEY}\n",
        "            details_response = requests.get(details_url, params=details_params)\n",
        "\n",
        "            if details_response.status_code == 200:\n",
        "                data = details_response.json()\n",
        "\n",
        "                title = data.get(\"title\", \"N/A\")\n",
        "                tagline = data.get(\"tagline\", \"N/A\")\n",
        "                overview = data.get(\"overview\", \"N/A\")\n",
        "                budget = data.get(\"budget\", \"N/A\")\n",
        "                revenue = data.get(\"revenue\", \"N/A\")\n",
        "                vote_average = data.get(\"vote_average\", \"N/A\")\n",
        "                vote_count = data.get(\"vote_count\", \"N/A\")\n",
        "                production_companies = \", \".join([c[\"name\"] for c in data.get(\"production_companies\", [])])\n",
        "\n",
        "                writer.writerow([\n",
        "                    title,\n",
        "                    tagline,\n",
        "                    overview,\n",
        "                    budget,\n",
        "                    revenue,\n",
        "                    vote_average,\n",
        "                    vote_count,\n",
        "                    production_companies\n",
        "                ])\n",
        "\n",
        "                print(f\"✓ Processed: {movie_title}\")\n",
        "            else:\n",
        "                print(f\"✗ Failed to get details for: {movie_title}\")\n",
        "        else:\n",
        "            print(f\"✗ Movie not found: {movie_title}\")\n",
        "\n",
        "print(f\"Processed {len(movies_to_process)} movies.\")"
      ],
      "id": "cell-7"
    },
    {
      "cell_type": "markdown",
      "metadata": {},
      "source": [
        "## Combining both the datasets"
      ],
      "id": "3d18b4b0-d7ba-432f-a432-22d91316bf68"
    },
    {
      "cell_type": "code",
      "execution_count": null,
      "metadata": {},
      "outputs": [],
      "source": [
        "import pandas as pd\n",
        "\n",
        "# Reading both of the CSV files\n",
        "OMDB_movies = pd.read_csv(\"../data/output_data/OMDB/movies_O.csv\")\n",
        "TMDB_movies = pd.read_csv(\"../data/output_data/TMDB/movies_T.csv\")\n",
        "\n",
        "# Merging the dataframes on the movie title\n",
        "merged_df = pd.merge(OMDB_movies, TMDB_movies, on=\"Title\")\n",
        "\n",
        "# exporting merged csv\n",
        "merged_df.to_csv(\"../data/output_data/combined_movies.csv\", index=False)"
      ],
      "id": "cell-9"
    },
    {
      "cell_type": "markdown",
      "metadata": {},
      "source": [
        "## Exploring the Collected Data"
      ],
      "id": "c5b9385b-58b1-4418-98ad-39f018ccbe56"
    },
    {
      "cell_type": "code",
      "execution_count": 1,
      "metadata": {},
      "outputs": [],
      "source": [
        "import pandas as pd\n",
        "import numpy as np\n",
        "\n",
        "movies_df = pd.read_csv(\"../data/output_data/combined_movies.csv\")"
      ],
      "id": "cell-11"
    },
    {
      "cell_type": "code",
      "execution_count": 3,
      "metadata": {},
      "outputs": [
        {
          "output_type": "stream",
          "name": "stdout",
          "text": [
            "Features of the movie: ['Title' 'Year' 'Released' 'Genre' 'Runtime' 'Director' 'Writer' 'Actors'\n",
            " 'Rated' 'IMDB Rating' 'Metascore' 'IMDB Votes' 'Awards' 'Box Office'\n",
            " 'Country' 'Language' 'Description' 'Poster URL' 'Tagline' 'Overview'\n",
            " 'Budget' 'Revenue' 'TMDB Rating' 'Vote Count' 'Production Companies']"
          ]
        }
      ],
      "source": [
        "variables = movies_df.columns\n",
        "print(\"Features of the movie:\", variables.values)"
      ],
      "id": "cell-12"
    },
    {
      "cell_type": "code",
      "execution_count": 4,
      "metadata": {},
      "outputs": [
        {
          "output_type": "stream",
          "name": "stdout",
          "text": [
            "Earlist film year: 1984.0\n",
            "Most recent film year: 2024.0"
          ]
        }
      ],
      "source": [
        "movies_df['Year'] = pd.to_numeric(movies_df['Year'], errors='coerce')\n",
        "\n",
        "movies_df = movies_df[(movies_df['Year'] >= 1984) & (movies_df['Year'] <= 2024)]\n",
        "\n",
        "years = movies_df['Year']\n",
        "min_year = np.min(years)\n",
        "max_year = np.max(years)\n",
        "print(\"Earlist film year:\", min_year)\n",
        "print(\"Most recent film year:\", max_year)"
      ],
      "id": "cell-13"
    },
    {
      "cell_type": "code",
      "execution_count": 5,
      "metadata": {},
      "outputs": [
        {
          "output_type": "stream",
          "name": "stdout",
          "text": [
            "Number of movies: 4110"
          ]
        }
      ],
      "source": [
        "movies = len(movies_df)\n",
        "print(\"Number of movies:\", movies)"
      ],
      "id": "cell-14"
    }
  ],
  "nbformat": 4,
  "nbformat_minor": 5,
  "metadata": {
    "kernelspec": {
      "name": "python3",
      "display_name": "dsan5650",
      "language": "python"
    },
    "language_info": {
      "name": "python",
      "codemirror_mode": {
        "name": "ipython",
        "version": "3"
      },
      "file_extension": ".py",
      "mimetype": "text/x-python",
      "nbconvert_exporter": "python",
      "pygments_lexer": "ipython3",
      "version": "3.11.13"
    }
  }
}