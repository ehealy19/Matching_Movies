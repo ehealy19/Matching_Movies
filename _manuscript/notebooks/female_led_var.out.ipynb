{
  "cells": [
    {
      "cell_type": "markdown",
      "metadata": {},
      "source": [
        "# Attempting to find the best way to categorize the female-led films and\n",
        "\n",
        "make the defining variable."
      ],
      "id": "7996bf82-76b5-4027-8a52-e81d97bfcec3"
    },
    {
      "cell_type": "code",
      "execution_count": 57,
      "metadata": {},
      "outputs": [],
      "source": [
        "import pandas as pd\n",
        "import numpy as np\n",
        "\n",
        "movies_df = pd.read_csv(\"../data/output_data/clean_movies_sent.csv\")"
      ],
      "id": "a9b14b51"
    },
    {
      "cell_type": "code",
      "execution_count": 58,
      "metadata": {},
      "outputs": [
        {
          "output_type": "stream",
          "name": "stdout",
          "text": [
            "0          Mark Wahlberg\n",
            "1             Jamie Bell\n",
            "2          Ryan Reynolds\n",
            "3            Marc Singer\n",
            "4         Tom Hiddleston\n",
            "5          Jeremy Renner\n",
            "6          Frankie Muniz\n",
            "7             Ben Barnes\n",
            "8          Jason Bateman\n",
            "9             Jack Black\n",
            "10            Chris Pine\n",
            "11        Angelina Jolie\n",
            "12          Sam Rockwell\n",
            "13            Nick Nolte\n",
            "14        Timothy Dalton\n",
            "15             Al Pacino\n",
            "16        Clint Eastwood\n",
            "17    Natasha Henstridge\n",
            "18           Hilary Duff\n",
            "19       Jake Gyllenhaal\n",
            "Name: Actors, dtype: object\n",
            "0                                Four Brothers\n",
            "1                     The Adventures of Tintin\n",
            "2                                Green Lantern\n",
            "3                              The Beastmaster\n",
            "4                           Kong: Skull Island\n",
            "5                                          Tag\n",
            "6                                 Big Fat Liar\n",
            "7     The Chronicles of Narnia: Prince Caspian\n",
            "8                              Horrible Bosses\n",
            "9                                  Nacho Libre\n",
            "10                     Star Trek Into Darkness\n",
            "11                Maleficent: Mistress of Evil\n",
            "12                                The Bad Guys\n",
            "13                                     48 Hrs.\n",
            "14                        The Living Daylights\n",
            "15                               Carlito's Way\n",
            "16                            Heartbreak Ridge\n",
            "17                                     Species\n",
            "18                          A Cinderella Story\n",
            "19                                  Demolition\n",
            "Name: Title, dtype: object"
          ]
        }
      ],
      "source": [
        "# checking how accurate the first listed actor/actress is in terms of being the star or main character\n",
        "first_actors = movies_df['Actors'].str.split(',').str[0].str.strip()\n",
        "print(first_actors.head(20))\n",
        "\n",
        "print(movies_df['Title'].head(20))"
      ],
      "id": "3b8cc6c7"
    },
    {
      "cell_type": "code",
      "execution_count": 59,
      "metadata": {},
      "outputs": [
        {
          "output_type": "stream",
          "name": "stdout",
          "text": [
            "There are 2452 actresses in the list"
          ]
        }
      ],
      "source": [
        "# getting the female actresses names from excel file\n",
        "\n",
        "# opening the file\n",
        "female_df = pd.read_excel(\"../data/input_data/female_actresses.xlsx\")\n",
        "female_df = female_df.rename(columns={'A': 'Name'})\n",
        "\n",
        "# splitting to get the names only\n",
        "female_df['Name'] = female_df['Name'].str.split(' born').str[0].str.split(r'\\d').str[0].str.strip()\n",
        "\n",
        "# deleting the rows that are just the letter headers\n",
        "female_df = female_df[~female_df['Name'].isin(list('ABCDEFGHIJKLMNOPQRSTUVWXYZ'))]\n",
        "\n",
        "num_actresses = len(female_df)\n",
        "print(f'There are {num_actresses} actresses in the list')"
      ],
      "id": "3c632fc4"
    },
    {
      "cell_type": "code",
      "execution_count": 60,
      "metadata": {},
      "outputs": [
        {
          "output_type": "stream",
          "name": "stdout",
          "text": [
            "                                      Title     First_Actor  Female_Lead\n",
            "0                             Four Brothers   Mark Wahlberg            0\n",
            "1                  The Adventures of Tintin      Jamie Bell            0\n",
            "2                             Green Lantern   Ryan Reynolds            0\n",
            "3                           The Beastmaster     Marc Singer            0\n",
            "4                        Kong: Skull Island  Tom Hiddleston            0\n",
            "5                                       Tag   Jeremy Renner            0\n",
            "6                              Big Fat Liar   Frankie Muniz            0\n",
            "7  The Chronicles of Narnia: Prince Caspian      Ben Barnes            0\n",
            "8                           Horrible Bosses   Jason Bateman            0\n",
            "9                               Nacho Libre      Jack Black            0\n",
            "              Title         First_Actor  Female_Lead\n",
            "2806     The Family      Robert De Niro            0\n",
            "2807      The Shack     Sam Worthington            0\n",
            "2808  The Dead Zone  Christopher Walken            0\n",
            "2809        The Ref         Denis Leary            0\n",
            "2810        Flyboys        James Franco            0\n",
            "2811            ATL   Tip 'T.I.' Harris            0\n",
            "2812    Like a Boss     Tiffany Haddish            1\n",
            "2813     Enemy Mine        Dennis Quaid            0\n",
            "2814     Proud Mary    Taraji P. Henson            1\n",
            "2815        Valmont         Colin Firth            0"
          ]
        }
      ],
      "source": [
        "# Creating the variable to indicate if first actor is female\n",
        "first_actors = movies_df['Actors'].str.split(',').str[0].str.strip()\n",
        "movies_df['First_Actor'] = first_actors\n",
        "\n",
        "# Check if the first actor is in the female name list\n",
        "movies_df['Female_Lead'] = movies_df['First_Actor'].apply(lambda x: int(any(name in x for name in female_df['Name'])))\n",
        "\n",
        "# checking the new variable\n",
        "print(movies_df[['Title', 'First_Actor', 'Female_Lead']].head(10))\n",
        "print(movies_df[['Title', 'First_Actor', 'Female_Lead']].tail(10))\n",
        "\n",
        "# dropping the first_Actor column\n",
        "movies_df = movies_df.drop(columns=[\"First_Actor\"])"
      ],
      "id": "b8761c3f"
    },
    {
      "cell_type": "code",
      "execution_count": 61,
      "metadata": {},
      "outputs": [
        {
          "output_type": "stream",
          "name": "stdout",
          "text": [
            "Female_Lead\n",
            "0    2328\n",
            "1     488\n",
            "Name: count, dtype: int64"
          ]
        }
      ],
      "source": [
        "# Count of the split\n",
        "female_lead_count = movies_df['Female_Lead'].value_counts()\n",
        "print(female_lead_count)"
      ],
      "id": "2cdfe006"
    },
    {
      "cell_type": "code",
      "execution_count": 62,
      "metadata": {},
      "outputs": [],
      "source": [
        "movies_df.to_csv(\"../data/output_data/clean_movies_sent_fem.csv\", index=False)"
      ],
      "id": "c189960f"
    }
  ],
  "nbformat": 4,
  "nbformat_minor": 5,
  "metadata": {
    "kernelspec": {
      "name": "python3",
      "display_name": "dsan5650",
      "language": "python"
    },
    "language_info": {
      "name": "python",
      "codemirror_mode": {
        "name": "ipython",
        "version": "3"
      },
      "file_extension": ".py",
      "mimetype": "text/x-python",
      "nbconvert_exporter": "python",
      "pygments_lexer": "ipython3",
      "version": "3.11.13"
    }
  }
}