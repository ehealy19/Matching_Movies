{
  "cells": [
    {
      "cell_type": "markdown",
      "metadata": {},
      "source": [
        "#"
      ],
      "id": "946aaf1c-7749-452a-aa54-eb109823c4a6"
    },
    {
      "cell_type": "code",
      "execution_count": 1,
      "metadata": {},
      "outputs": [],
      "source": [
        "import pandas as pd\n",
        "import numpy as np\n",
        "\n",
        "movies_df = pd.read_csv(\"../data/output_data/combined_movies.csv\")"
      ],
      "id": "0b013527"
    },
    {
      "cell_type": "code",
      "execution_count": 2,
      "metadata": {},
      "outputs": [
        {
          "output_type": "stream",
          "name": "stdout",
          "text": [
            "Features of the movie: ['Title' 'Year' 'Released' 'Genre' 'Runtime' 'Director' 'Writer' 'Actors'\n",
            " 'Rated' 'IMDB Rating' 'Metascore' 'IMDB Votes' 'Awards' 'Box Office'\n",
            " 'Country' 'Language' 'Description' 'Poster URL' 'Tagline' 'Overview'\n",
            " 'Budget' 'Revenue' 'TMDB Rating' 'Vote Count' 'Production Companies']"
          ]
        }
      ],
      "source": [
        "variables = movies_df.columns\n",
        "print(\"Features of the movie:\", variables.values)"
      ],
      "id": "42f2dc16"
    },
    {
      "cell_type": "code",
      "execution_count": 3,
      "metadata": {},
      "outputs": [
        {
          "output_type": "stream",
          "name": "stdout",
          "text": [
            "Earlist film year: 1984.0\n",
            "Most recent film year: 2024.0"
          ]
        }
      ],
      "source": [
        "movies_df['Year'] = pd.to_numeric(movies_df['Year'], errors='coerce')\n",
        "\n",
        "movies_df = movies_df[(movies_df['Year'] >= 1984) & (movies_df['Year'] <= 2024)]\n",
        "\n",
        "years = movies_df['Year']\n",
        "min_year = np.min(years)\n",
        "max_year = np.max(years)\n",
        "print(\"Earlist film year:\", min_year)\n",
        "print(\"Most recent film year:\", max_year)"
      ],
      "id": "4a48181d"
    },
    {
      "cell_type": "code",
      "execution_count": 4,
      "metadata": {},
      "outputs": [
        {
          "output_type": "stream",
          "name": "stdout",
          "text": [
            "Number of movies: 4110"
          ]
        }
      ],
      "source": [
        "movies = len(movies_df)\n",
        "print(\"Number of movies:\", movies)"
      ],
      "id": "998c1b9e"
    }
  ],
  "nbformat": 4,
  "nbformat_minor": 5,
  "metadata": {
    "kernelspec": {
      "name": "python3",
      "display_name": "dsan5650",
      "language": "python"
    },
    "language_info": {
      "name": "python",
      "codemirror_mode": {
        "name": "ipython",
        "version": "3"
      },
      "file_extension": ".py",
      "mimetype": "text/x-python",
      "nbconvert_exporter": "python",
      "pygments_lexer": "ipython3",
      "version": "3.11.13"
    }
  }
}