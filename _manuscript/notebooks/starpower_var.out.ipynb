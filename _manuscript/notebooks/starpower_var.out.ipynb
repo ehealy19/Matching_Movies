{
  "cells": [
    {
      "cell_type": "markdown",
      "metadata": {},
      "source": [
        "# Creating the metric of starpower within the film"
      ],
      "id": "81e5b139-f07f-42eb-99d8-9edf780a83a3"
    },
    {
      "cell_type": "code",
      "execution_count": 20,
      "metadata": {},
      "outputs": [],
      "source": [
        "import pandas as pd\n",
        "import numpy as np\n",
        "\n",
        "movies_df = pd.read_csv(\"../data/output_data/clean_movies_sent_fem.csv\")"
      ],
      "id": "4e05e113"
    },
    {
      "cell_type": "code",
      "execution_count": 12,
      "metadata": {},
      "outputs": [
        {
          "output_type": "stream",
          "name": "stdout",
          "text": [
            "              Name\n",
            "0        Al Pacino\n",
            "1  Tommy Lee Jones\n",
            "2    Harrison Ford\n",
            "3   Robert De Niro\n",
            "4    Kevin Costner\n",
            "               Name\n",
            "0      Ansel Elgort\n",
            "1       Wes Bentley\n",
            "2  Chiwetel Ejiofor\n",
            "3        Karl Urban\n",
            "4   Britt Robertson\n",
            "Number of A-listers: 200\n",
            "Number of b-listers: 376"
          ]
        }
      ],
      "source": [
        "# Loading in the list of A-list and B-list actors/actresses \n",
        "a_list_actors_df = pd.read_csv(\"../data/input_data/a_list_actors.csv\")\n",
        "a_list_actresses_df = pd.read_csv(\"../data/input_data/a_list_actresses.csv\")\n",
        "b_list_df = pd.read_csv(\"../data/input_data/b_list.csv\")\n",
        "\n",
        "# taking just the names from the dataframes\n",
        "a_list_actors = a_list_actors_df['Name'].tolist()\n",
        "a_list_actors = pd.DataFrame(a_list_actors, columns=['Name'])\n",
        "\n",
        "a_list_actresses = a_list_actresses_df['Name'].tolist()\n",
        "a_list_actresses = pd.DataFrame(a_list_actresses, columns=['Name'])\n",
        "\n",
        "b_list = b_list_df['Name'].tolist()\n",
        "b_list = pd.DataFrame(b_list, columns=['Name'])\n",
        "\n",
        "# combining the A-list actors and actresses into one dataframe\n",
        "a_list = pd.concat([a_list_actors, a_list_actresses], ignore_index=True)\n",
        "\n",
        "print(a_list.head(5))\n",
        "print(b_list.head(5))\n",
        "\n",
        "num_a_list = len(a_list)\n",
        "num_b_list = len(b_list)\n",
        "\n",
        "print(f'Number of A-listers: {num_a_list}')\n",
        "print(f'Number of b-listers: {num_b_list}')\n"
      ],
      "id": "8ec1b456"
    },
    {
      "cell_type": "code",
      "execution_count": 27,
      "metadata": {},
      "outputs": [
        {
          "output_type": "stream",
          "name": "stdout",
          "text": [
            "           actor1             actor2           actor3  starpower\n",
            "0   Mark Wahlberg      Tyrese Gibson       André 3000   0.666667\n",
            "1      Jamie Bell        Andy Serkis     Daniel Craig   1.333333\n",
            "2   Ryan Reynolds       Blake Lively  Peter Sarsgaard   0.333333\n",
            "3     Marc Singer      Tanya Roberts         Rip Torn   0.000000\n",
            "4  Tom Hiddleston  Samuel L. Jackson      Brie Larson   1.000000\n",
            "5   Jeremy Renner           Ed Helms     Jake Johnson   0.000000\n",
            "6   Frankie Muniz       Amanda Bynes    Paul Giamatti   1.000000\n",
            "7      Ben Barnes     Skandar Keynes   Georgie Henley   0.000000\n",
            "8   Jason Bateman        Charlie Day   Jason Sudeikis   1.000000\n",
            "9      Jack Black  Ana de la Reguera   Héctor Jiménez   0.333333"
          ]
        }
      ],
      "source": [
        "# Creating the variable to calculate the starpower metric\n",
        "\n",
        "# splitting to get all four actors/actresses into separate columns\n",
        "if movies_df['Actors'].notna().any():\n",
        "    actors_split = movies_df['Actors'].str.split(',', expand=True)\n",
        "    movies_df['actor1'] = actors_split[0].str.strip()\n",
        "    movies_df['actor2'] = actors_split[1].str.strip()\n",
        "    movies_df['actor3'] = actors_split[2].str.strip()\n",
        "else:\n",
        "    print(\"The 'Actors' column is empty or missing.\")\n",
        "\n",
        "# creating the metric column\n",
        "movies_df['starpower'] = 0\n",
        "\n",
        "# Check if the first actor is in the a-list\n",
        "movies_df.loc[movies_df['actor1'].isin(a_list['Name'].values), 'starpower'] += 2\n",
        "movies_df.loc[movies_df['actor2'].isin(a_list['Name'].values), 'starpower'] += 2\n",
        "movies_df.loc[movies_df['actor3'].isin(a_list['Name'].values), 'starpower'] += 2\n",
        "\n",
        "movies_df.loc[movies_df['actor1'].isin(b_list['Name'].values), 'starpower'] += 1\n",
        "movies_df.loc[movies_df['actor2'].isin(b_list['Name'].values), 'starpower'] += 1\n",
        "movies_df.loc[movies_df['actor3'].isin(b_list['Name'].values), 'starpower'] += 1\n",
        "\n",
        "# making it an average value\n",
        "movies_df['starpower'] = movies_df['starpower'] / 3\n",
        "\n",
        "# checking the new variable\n",
        "print(movies_df[['actor1', 'actor2', 'actor3', 'starpower']].head(10))\n",
        "\n",
        "# dropping the actor columns\n",
        "movies_df = movies_df.drop(columns=[\"actor1\", \"actor2\", \"actor3\", \"Actors\"])"
      ],
      "id": "00aaafcf"
    },
    {
      "cell_type": "code",
      "execution_count": 28,
      "metadata": {},
      "outputs": [],
      "source": [
        "movies_df.to_csv(\"../data/output_data/clean_movies_sent_fem_star.csv\", index=False)"
      ],
      "id": "44611a18"
    }
  ],
  "nbformat": 4,
  "nbformat_minor": 5,
  "metadata": {
    "kernelspec": {
      "name": "python3",
      "display_name": "dsan5650",
      "language": "python"
    },
    "language_info": {
      "name": "python",
      "codemirror_mode": {
        "name": "ipython",
        "version": "3"
      },
      "file_extension": ".py",
      "mimetype": "text/x-python",
      "nbconvert_exporter": "python",
      "pygments_lexer": "ipython3",
      "version": "3.11.13"
    }
  }
}