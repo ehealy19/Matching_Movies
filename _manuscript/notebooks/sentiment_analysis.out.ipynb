{
  "cells": [
    {
      "cell_type": "markdown",
      "metadata": {},
      "source": [
        "# \n",
        "\n",
        "Performing Sentiment Analysis on Description, Tagline, and Overview"
      ],
      "id": "b6df930c-5a7c-4133-ad80-95804de0acfc"
    },
    {
      "cell_type": "code",
      "execution_count": 9,
      "metadata": {},
      "outputs": [
        {
          "output_type": "stream",
          "name": "stderr",
          "text": [
            "Device set to use cpu"
          ]
        }
      ],
      "source": [
        "from transformers import pipeline\n",
        "\n",
        "classifier = pipeline(\n",
        "    \"sentiment-analysis\", \n",
        "    model=\"distilbert-base-uncased-finetuned-sst-2-english\",\n",
        "    truncation=True\n",
        "    )"
      ],
      "id": "32e1727a"
    },
    {
      "cell_type": "code",
      "execution_count": 10,
      "metadata": {},
      "outputs": [],
      "source": [
        "import pandas as pd\n",
        "import numpy as np\n",
        "\n",
        "movies_df = pd.read_csv(\"../data/output_data/clean_movies.csv\")\n",
        "\n",
        "#Description Sentiment Analysis\n",
        "movies_df[\"Descr_Sentiment\"] = movies_df[\"Description\"].apply(lambda x: classifier(x)[0][\"label\"])"
      ],
      "id": "dcfdd68f"
    },
    {
      "cell_type": "code",
      "execution_count": 11,
      "metadata": {},
      "outputs": [],
      "source": [
        "# Overview Sentiment Analysis\n",
        "movies_df[\"Tagline_Sentiment\"] = movies_df[\"Tagline\"].apply(lambda x: classifier(x)[0][\"label\"])"
      ],
      "id": "95dbfeb0"
    },
    {
      "cell_type": "code",
      "execution_count": 13,
      "metadata": {},
      "outputs": [
        {
          "output_type": "stream",
          "name": "stderr",
          "text": [
            "/var/folders/f7/px3ynpyn7l3g5j59yyvbggrw0000gn/T/ipykernel_33281/2660690932.py:2: FutureWarning: Downcasting behavior in `replace` is deprecated and will be removed in a future version. To retain the old behavior, explicitly call `result.infer_objects(copy=False)`. To opt-in to the future behavior, set `pd.set_option('future.no_silent_downcasting', True)`\n",
            "  movies_df[\"Descr_Sentiment\"] = movies_df[\"Descr_Sentiment\"].replace({\"NEGATIVE\": 0, \"POSITIVE\": 1})\n",
            "/var/folders/f7/px3ynpyn7l3g5j59yyvbggrw0000gn/T/ipykernel_33281/2660690932.py:3: FutureWarning: Downcasting behavior in `replace` is deprecated and will be removed in a future version. To retain the old behavior, explicitly call `result.infer_objects(copy=False)`. To opt-in to the future behavior, set `pd.set_option('future.no_silent_downcasting', True)`\n",
            "  movies_df[\"Tagline_Sentiment\"] = movies_df[\"Tagline_Sentiment\"].replace({\"NEGATIVE\": 0, \"POSITIVE\": 1})"
          ]
        }
      ],
      "source": [
        "# converting the neg/pos to label 0/1\n",
        "movies_df[\"Descr_Sentiment\"] = movies_df[\"Descr_Sentiment\"].replace({\"NEGATIVE\": 0, \"POSITIVE\": 1})\n",
        "movies_df[\"Tagline_Sentiment\"] = movies_df[\"Tagline_Sentiment\"].replace({\"NEGATIVE\": 0, \"POSITIVE\": 1})"
      ],
      "id": "690dcd80"
    },
    {
      "cell_type": "code",
      "execution_count": 14,
      "metadata": {},
      "outputs": [],
      "source": [
        "# dropping the original columns\n",
        "movies_df = movies_df.drop(columns=[\"Tagline\", \"Description\"])"
      ],
      "id": "89dc0bcb"
    },
    {
      "cell_type": "code",
      "execution_count": 15,
      "metadata": {},
      "outputs": [],
      "source": [
        "movies_df.to_csv(\"../data/output_data/clean_movies_sent.csv\", index=False)"
      ],
      "id": "f8a63b6d"
    }
  ],
  "nbformat": 4,
  "nbformat_minor": 5,
  "metadata": {
    "kernelspec": {
      "name": "python3",
      "display_name": "dsan5650",
      "language": "python"
    },
    "language_info": {
      "name": "python",
      "codemirror_mode": {
        "name": "ipython",
        "version": "3"
      },
      "file_extension": ".py",
      "mimetype": "text/x-python",
      "nbconvert_exporter": "python",
      "pygments_lexer": "ipython3",
      "version": "3.11.13"
    }
  }
}