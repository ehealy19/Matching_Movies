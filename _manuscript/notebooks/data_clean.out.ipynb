{
  "cells": [
    {
      "cell_type": "markdown",
      "metadata": {},
      "source": [
        "# Cleaning the Data"
      ],
      "id": "523c7756-bfa0-4559-806a-3337afc5c418"
    },
    {
      "cell_type": "code",
      "execution_count": 374,
      "metadata": {},
      "outputs": [],
      "source": [
        "import pandas as pd\n",
        "import numpy as np\n",
        "\n",
        "movies_df = pd.read_csv(\"../data/output_data/combined_movies.csv\")"
      ],
      "id": "1e0508f8"
    },
    {
      "cell_type": "code",
      "execution_count": 375,
      "metadata": {},
      "outputs": [],
      "source": [
        "# removing the first row (empty)\n",
        "movies_df = movies_df.iloc[1:]"
      ],
      "id": "b2c04d28"
    },
    {
      "cell_type": "code",
      "execution_count": 376,
      "metadata": {},
      "outputs": [],
      "source": [
        "# dropping Poster URL and overview column\n",
        "movies_df = movies_df.drop(columns=[\"Poster URL\", \"Overview\"])"
      ],
      "id": "634b0469"
    },
    {
      "cell_type": "code",
      "execution_count": 377,
      "metadata": {},
      "outputs": [],
      "source": [
        "# dropping missing values\n",
        "movies_df = movies_df.dropna()\n",
        "\n",
        "# dropping zeros (budget and revenue)\n",
        "movies_df = movies_df[(movies_df[\"Budget\"] != 0) & (movies_df[\"Revenue\"] != 0)]"
      ],
      "id": "520b0932"
    },
    {
      "cell_type": "code",
      "execution_count": 378,
      "metadata": {},
      "outputs": [],
      "source": [
        "# converting runtime to numeric\n",
        "movies_df[\"Runtime\"] = movies_df[\"Runtime\"].str.replace(\" min\", \"\").astype(int)"
      ],
      "id": "a8f0b703"
    },
    {
      "cell_type": "code",
      "execution_count": 379,
      "metadata": {},
      "outputs": [],
      "source": [
        "# splitting the released date into year, month, and day\n",
        "movies_df[\"Released\"] = pd.to_datetime(movies_df[\"Released\"], errors='coerce')\n",
        "movies_df[\"Year\"] = movies_df[\"Released\"].dt.year\n",
        "movies_df[\"Month\"] = movies_df[\"Released\"].dt.month\n",
        "movies_df[\"Day\"] = movies_df[\"Released\"].dt.day\n",
        "\n",
        "# dropping the original Released column\n",
        "movies_df = movies_df.drop(columns=[\"Released\"])"
      ],
      "id": "d1eb2ea0"
    },
    {
      "cell_type": "code",
      "execution_count": 380,
      "metadata": {},
      "outputs": [],
      "source": [
        "# making the genre column one-hot encoded\n",
        "genre_dummies = movies_df[\"Genre\"].str.get_dummies(sep=', ')\n",
        "movies_df = pd.concat([movies_df, genre_dummies], axis=1)\n",
        "\n",
        "# dropping the original genre column\n",
        "movies_df = movies_df.drop(columns=[\"Genre\"])"
      ],
      "id": "aaa94c69"
    },
    {
      "cell_type": "code",
      "execution_count": 381,
      "metadata": {},
      "outputs": [],
      "source": [
        "# making the MPAA rating one-hot encoded\n",
        "mpaa_dummies = movies_df[\"Rated\"].str.get_dummies(sep=', ')\n",
        "movies_df = pd.concat([movies_df, mpaa_dummies], axis=1)\n",
        "\n",
        "# dropping the original MPAA rating column\n",
        "movies_df = movies_df.drop(columns=[\"Rated\"])"
      ],
      "id": "c0fbe507"
    },
    {
      "cell_type": "code",
      "execution_count": 382,
      "metadata": {},
      "outputs": [],
      "source": [
        "# creating variable that indicates the movie was made by a big production company\n",
        "companies = [\"Universal Pictures\", \"Paramount Pictures\", \"Warner Bros. Pictures\", \"Walt Disney Pictures\", \"Walt Disney Feature Animation\", \"Sony Pictures\", \"Universal Pictures\", \"20th Century Fox\", \"Columbia Pictures\", \"Lionsgate\", \"Metro-Goldwyn-Mayer\", \"Marvel Studios\", \"Pixar Animation Studios\", \"DreamWorks Animation\", \"DreamWorks Pictures\", \"New Line Cinema\", \"Focus Features\", \"Orion Pictures\", \"United Artists\", \"A24\", \"Searchlight Pictures\"]\n",
        "movies_df[\"Top_Production_Company\"] = movies_df[\"Production Companies\"].apply(lambda x: int(any(company in x for company in companies)))\n",
        "\n",
        "# dropping the original Production Companies column\n",
        "movies_df = movies_df.drop(columns=[\"Production Companies\"])"
      ],
      "id": "7e713706"
    },
    {
      "cell_type": "code",
      "execution_count": 383,
      "metadata": {},
      "outputs": [],
      "source": [
        "# creaing variable that indicates the movie was directed by top 25 director\n",
        "top_directors = [\"Steven Spielberg\", \"James Cameron\", \"Russo brohters\", \"Peter Jackson\", \"Michael Bay\", \"David Yates\", \"Christopher Nolan\", \"Ridley Scott\", \"Tim Burton\", \"J.J. Abrams\", \"Ron Howard\", \"Robert Zemeckis\", \"Jon Favreau\", \"Sam Raimi\", \"James Wan\", \"Chris Columbus\", \"Roland Emmerich\", \"Jon Watts\", \"Gore Verbinski\", \"Bryan Singer\", \"Pierre Coffin\", \"Francis Lawrence\", \"Clint Eastwood\", \"George Lucas\", \"Brad Bird\", \"M. Night Shyamalan\", \"Todd Phillips\", \"Chris Renaud\", \"Zack Snyder\", \"Kyle Balda\"]\n",
        "movies_df[\"Top_Director\"] = movies_df[\"Director\"].apply(lambda x: int(any(director in x for director in top_directors)))\n",
        "\n",
        "# dropping the original Director column\n",
        "movies_df = movies_df.drop(columns=[\"Director\"])"
      ],
      "id": "b71d92dd"
    },
    {
      "cell_type": "code",
      "execution_count": 384,
      "metadata": {},
      "outputs": [],
      "source": [
        "# creaing variable that indicates the movie was written by top 20 writer\n",
        "\n",
        "# splitting the column and keeping only the first writer\n",
        "movies_df[\"Writer\"] = movies_df[\"Writer\"].str.split(',').str[0]\n",
        "\n",
        "\n",
        "top_writers =  [\"Aaron Sorkin\", \"Quentin Tarantino\", \"Woody Allen\", \"Billy Wilder\", \"Joel Coen\", \"Ethan Coen\", \"Oliver Stone\", \"William Goldman\", \"Steven Zaillian\", \"James Cameron\", \"Mel Brooks\", \"Paul Schrader\", \"Ingmar Bergman\", \"Lawrence Kasdan\", \"Eric Roth\", \"Alan Ball\", \"Paul Thomas Anderson\", \"Walter Hill\", \"John Hughes\", \"David Lynch\"]\n",
        "movies_df[\"Top_Writer\"] = movies_df[\"Writer\"].apply(lambda x: int(any(writer in x for writer in top_writers)))\n",
        "\n",
        "# dropping the original Director column\n",
        "movies_df = movies_df.drop(columns=[\"Writer\"])"
      ],
      "id": "eb698d06"
    },
    {
      "cell_type": "code",
      "execution_count": 385,
      "metadata": {},
      "outputs": [],
      "source": [
        "# converting text variables to strings\n",
        "\n",
        "movies_df[\"Title\"] = movies_df[\"Title\"].astype(\"string\")\n",
        "movies_df[\"Actors\"] = movies_df[\"Actors\"].astype(\"string\")\n",
        "movies_df[\"Description\"] = movies_df[\"Description\"].astype(\"string\")\n",
        "movies_df[\"Tagline\"] = movies_df[\"Tagline\"].astype(\"string\")"
      ],
      "id": "2653e0f7"
    },
    {
      "cell_type": "code",
      "execution_count": 386,
      "metadata": {},
      "outputs": [],
      "source": [
        "# convering IMDB votes to numeric\n",
        "movies_df[\"IMDB Votes\"] = movies_df[\"IMDB Votes\"].str.replace(\",\", \"\").astype(int)"
      ],
      "id": "e2fe4850"
    },
    {
      "cell_type": "code",
      "execution_count": 387,
      "metadata": {},
      "outputs": [],
      "source": [
        "# converting box office to numeric\n",
        "movies_df[\"Box Office\"] = movies_df[\"Box Office\"].str.replace(\"$\", \"\").str.replace(\",\", \"\").astype(float)"
      ],
      "id": "4ea508c8"
    },
    {
      "cell_type": "code",
      "execution_count": 388,
      "metadata": {},
      "outputs": [],
      "source": [
        "# splitting the column and keeping only the first language\n",
        "movies_df[\"Country\"] = movies_df[\"Country\"].str.split(',').str[0]\n",
        "\n",
        "# creating variable that indicates the movie was made in English\n",
        "movies_df[\"Domestic\"] = movies_df[\"Country\"].apply(lambda x: int(x == \"United States\"))\n",
        "# variable that indicates the movie was made in other language\n",
        "movies_df[\"International\"] = movies_df[\"Country\"].apply(lambda x: int(x != \"United States\"))\n",
        "\n",
        "# dropping the original country column\n",
        "movies_df = movies_df.drop(columns=[\"Country\"])"
      ],
      "id": "be2558ff"
    },
    {
      "cell_type": "code",
      "execution_count": 389,
      "metadata": {},
      "outputs": [],
      "source": [
        "# splitting the column and keeping only the first language\n",
        "movies_df[\"Language\"] = movies_df[\"Language\"].str.split(',').str[0]\n",
        "\n",
        "# creating variable that indicates the movie was made in English\n",
        "movies_df[\"English_Language\"] = movies_df[\"Language\"].apply(lambda x: int(x == \"English\"))\n",
        "# variable that indicates the movie was made in other language\n",
        "movies_df[\"Other_Language\"] = movies_df[\"Language\"].apply(lambda x: int(x != \"English\"))\n",
        "\n",
        "# dropping the original country column\n",
        "movies_df = movies_df.drop(columns=[\"Language\"])"
      ],
      "id": "d5b7fc33"
    },
    {
      "cell_type": "code",
      "execution_count": 390,
      "metadata": {},
      "outputs": [],
      "source": [
        "import re\n",
        "\n",
        "# converting the awards column to numeric\n",
        "movies_df[\"Oscars_Won\"] = 0\n",
        "movies_df[\"Oscars_Nominated\"] = 0\n",
        "movies_df[\"Wins\"] = 0\n",
        "movies_df[\"Nominations\"] = 0\n",
        "\n",
        "# Extract with regex\n",
        "for i, row in movies_df.iterrows():\n",
        "    text = row[\"Awards\"]\n",
        "\n",
        "    # Oscars\n",
        "    won_oscar = re.search(r\"Won (\\d+) Oscar\", text)\n",
        "    nom_oscar = re.search(r\"Nominated for (\\d+) Oscar\", text)\n",
        "    if won_oscar:\n",
        "        movies_df.at[i, \"Oscars_Won\"] = int(won_oscar.group(1))\n",
        "    if nom_oscar:\n",
        "        movies_df.at[i, \"Oscars_Nominated\"] = int(nom_oscar.group(1))\n",
        "\n",
        "    # General wins\n",
        "    wins = re.search(r\"(\\d+) wins?\", text)\n",
        "    if wins:\n",
        "        movies_df.at[i, \"Wins\"] = int(wins.group(1))\n",
        "\n",
        "    # General nominations\n",
        "    noms = re.search(r\"(\\d+) nominations?\", text)\n",
        "    if noms:\n",
        "        movies_df.at[i, \"Nominations\"] = int(noms.group(1))\n",
        "\n",
        "# dropping the original Awards column\n",
        "movies_df = movies_df.drop(columns=[\"Awards\"])"
      ],
      "id": "8912830a"
    },
    {
      "cell_type": "code",
      "execution_count": 391,
      "metadata": {},
      "outputs": [
        {
          "output_type": "stream",
          "name": "stdout",
          "text": [
            "Title          string[python]\n",
            "Year                    int32\n",
            "Runtime                 int64\n",
            "Actors         string[python]\n",
            "IMDB Rating           float64\n",
            "Metascore             float64\n",
            "IMDB Votes              int64\n",
            "Box Office            float64\n",
            "Description    string[python]\n",
            "Tagline        string[python]\n",
            "dtype: object\n",
            "Budget           int64\n",
            "Revenue          int64\n",
            "TMDB Rating    float64\n",
            "Vote Count       int64\n",
            "Month            int32\n",
            "Day              int32\n",
            "Action           int64\n",
            "Adventure        int64\n",
            "Animation        int64\n",
            "Biography        int64\n",
            "dtype: object\n",
            "Comedy         int64\n",
            "Crime          int64\n",
            "Documentary    int64\n",
            "Drama          int64\n",
            "dtype: object"
          ]
        }
      ],
      "source": [
        "# check data types\n",
        "print(movies_df.dtypes[:10])\n",
        "print(movies_df.dtypes[10:20])\n",
        "print(movies_df.dtypes[20:24])"
      ],
      "id": "10452cb0"
    },
    {
      "cell_type": "code",
      "execution_count": 392,
      "metadata": {},
      "outputs": [
        {
          "output_type": "stream",
          "name": "stdout",
          "text": [
            "Number of movies: 2816"
          ]
        }
      ],
      "source": [
        "movies = len(movies_df)\n",
        "print(\"Number of movies:\", movies)"
      ],
      "id": "da5b34d0"
    },
    {
      "cell_type": "code",
      "execution_count": 393,
      "metadata": {},
      "outputs": [
        {
          "output_type": "stream",
          "name": "stdout",
          "text": [
            "Number of columns: 61"
          ]
        }
      ],
      "source": [
        "# check number of columns\n",
        "columns = len(movies_df.columns)\n",
        "print(\"Number of columns:\", columns)"
      ],
      "id": "0a020623"
    },
    {
      "cell_type": "code",
      "execution_count": 394,
      "metadata": {},
      "outputs": [],
      "source": [
        "movies_df.to_csv(\"../data/output_data/clean_movies.csv\", index=False)"
      ],
      "id": "2c95bdf0"
    }
  ],
  "nbformat": 4,
  "nbformat_minor": 5,
  "metadata": {
    "kernelspec": {
      "name": "python3",
      "display_name": "dsan5650",
      "language": "python"
    },
    "language_info": {
      "name": "python",
      "codemirror_mode": {
        "name": "ipython",
        "version": "3"
      },
      "file_extension": ".py",
      "mimetype": "text/x-python",
      "nbconvert_exporter": "python",
      "pygments_lexer": "ipython3",
      "version": "3.11.13"
    }
  }
}