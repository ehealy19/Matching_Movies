{
  "cells": [
    {
      "cell_type": "markdown",
      "metadata": {},
      "source": [
        "#"
      ],
      "id": "5aa082a2-3489-4a91-8771-501889154adb"
    },
    {
      "cell_type": "code",
      "execution_count": 4,
      "metadata": {},
      "outputs": [],
      "source": [
        "import pandas as pd\n",
        "\n",
        "# Reading both of the CSV files\n",
        "OMDB_movies = pd.read_csv(\"../data/output_data/OMDB/movies_O.csv\")\n",
        "TMDB_movies = pd.read_csv(\"../data/output_data/TMDB/movies_T.csv\")\n",
        "\n",
        "# Merging the dataframes on the movie title\n",
        "merged_df = pd.merge(OMDB_movies, TMDB_movies, on=\"Title\")\n",
        "\n",
        "# exporting merged csv\n",
        "merged_df.to_csv(\"../data/output_data/combined_movies.csv\", index=False)"
      ],
      "id": "74be3793"
    }
  ],
  "nbformat": 4,
  "nbformat_minor": 5,
  "metadata": {
    "kernelspec": {
      "name": "python3",
      "display_name": "dsan5650",
      "language": "python"
    },
    "language_info": {
      "name": "python",
      "codemirror_mode": {
        "name": "ipython",
        "version": "3"
      },
      "file_extension": ".py",
      "mimetype": "text/x-python",
      "nbconvert_exporter": "python",
      "pygments_lexer": "ipython3",
      "version": "3.11.13"
    }
  }
}