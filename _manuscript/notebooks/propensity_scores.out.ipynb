{
 "cells": [
  {
   "cell_type": "markdown",
   "metadata": {},
   "source": [
    "# Propensity Score Matching"
   ],
   "id": "7a258758-103f-4410-89ea-efcd7a4440e5"
  },
  {
   "cell_type": "markdown",
   "metadata": {},
   "source": [],
   "id": "b2264433"
  },
  {
   "cell_type": "code",
   "execution_count": 104,
   "metadata": {},
   "outputs": [
    {
     "output_type": "stream",
     "name": "stdout",
     "text": [
      "                      Title  Year  Runtime  IMDB Rating  Metascore  \\\n",
      "0             Four Brothers  2005      109          6.8       49.0   \n",
      "1  The Adventures of Tintin  2011      107          7.3       68.0   \n",
      "2             Green Lantern  2011      114          5.5       39.0   \n",
      "3           The Beastmaster  1982      118          6.2       18.0   \n",
      "4        Kong: Skull Island  2017      118          6.7       62.0   \n",
      "\n",
      "   IMDB Votes   Box Office     Budget    Revenue  TMDB Rating  ...  \\\n",
      "0      164844   74494381.0   45000000   92374674        6.800  ...   \n",
      "1      249784   77591831.0  130000000  373993951        6.905  ...   \n",
      "2      304201  116601172.0  200000000  219851172        5.174  ...   \n",
      "3       26055   14056528.0    8000000   14056528        6.300  ...   \n",
      "4      362341  168052812.0  185000000  566652812        6.547  ...   \n",
      "\n",
      "   English_Language  Other_Language  Oscars_Won  Oscars_Nominated  Wins  \\\n",
      "0                 1               0           0                 0     5   \n",
      "1                 1               0           0                 1    22   \n",
      "2                 1               0           0                 0     3   \n",
      "3                 1               0           0                 0     1   \n",
      "4                 1               0           0                 1     1   \n",
      "\n",
      "   Nominations  Descr_Sentiment  Tagline_Sentiment  Female_Lead  starpower  \n",
      "0            9                0                  0            0   0.666667  \n",
      "1           63                0                  1            0   1.333333  \n",
      "2            6                1                  1            0   0.333333  \n",
      "3            2                1                  1            0   0.000000  \n",
      "4           22                1                  1            0   1.000000  \n",
      "\n",
      "[5 rows x 62 columns]"
     ]
    }
   ],
   "source": [
    "import pandas as pd\n",
    "import numpy as np\n",
    "\n",
    "movies_df = pd.read_csv(\"../data/output_data/clean_movies_sent_fem_star.csv\")\n",
    "\n",
    "print(movies_df.head(5))\n",
    "\n",
    "movies_df.rename(columns={\n",
    "    'Film-Noir': 'Film_Noir',\n",
    "    'Sci-Fi': 'Sci_Fi',\n",
    "    'M/PG': 'M_PG',\n",
    "    'NC-17': 'NC_17',\n",
    "    'Not Rated': 'Not_Rated',\n",
    "    'PG-13': 'PG_13',\n",
    "    'TV-MA': 'TV_MA',\n",
    "    'IMDB Rating': 'IMDB_Rating',\n",
    "    'IMDB Votes': 'IMDB_Votes',\n",
    "    'TMDB Rating': 'TMDB_Rating',\n",
    "    'Vote Count': 'Vote_Count',\n",
    "}, inplace=True)"
   ],
   "id": "12d9800f"
  },
  {
   "cell_type": "code",
   "execution_count": 105,
   "metadata": {},
   "outputs": [
    {
     "output_type": "display_data",
     "metadata": {},
     "data": {
      "text/html": [
       "\n",
       "<p>2 rows × 2800 columns</p>\n",
       "</div>"
      ]
     }
    }
   ],
   "source": [
    "pd.crosstab(movies_df['Female_Lead'], movies_df['Box Office'])"
   ],
   "id": "98daf0ee"
  },
  {
   "cell_type": "code",
   "execution_count": 106,
   "metadata": {},
   "outputs": [
    {
     "output_type": "stream",
     "name": "stdout",
     "text": [
      "Index(['Title', 'Year', 'Runtime', 'IMDB_Rating', 'Metascore', 'IMDB_Votes',\n",
      "       'Box Office', 'Budget', 'Revenue', 'TMDB_Rating', 'Vote_Count', 'Month',\n",
      "       'Day', 'Action', 'Adventure', 'Animation', 'Biography', 'Comedy',\n",
      "       'Crime', 'Documentary', 'Drama', 'Family', 'Fantasy', 'Film_Noir',\n",
      "       'History', 'Horror', 'Music', 'Musical', 'Mystery', 'Romance', 'Sci_Fi',\n",
      "       'Sport', 'Thriller', 'War', 'Western', 'Approved', 'G', 'GP', 'M',\n",
      "       'M_PG', 'NC_17', 'Not_Rated', 'PG', 'PG_13', 'R', 'TV_MA', 'Unrated',\n",
      "       'Top_Production_Company', 'Top_Director', 'Top_Writer', 'Domestic',\n",
      "       'International', 'English_Language', 'Other_Language', 'Oscars_Won',\n",
      "       'Oscars_Nominated', 'Wins', 'Nominations', 'Descr_Sentiment',\n",
      "       'Tagline_Sentiment', 'Female_Lead', 'starpower'],\n",
      "      dtype='object')"
     ]
    }
   ],
   "source": [
    "print(movies_df.columns)"
   ],
   "id": "d8e550a7"
  },
  {
   "cell_type": "code",
   "execution_count": 107,
   "metadata": {},
   "outputs": [],
   "source": [
    "from sklearn.preprocessing import StandardScaler\n",
    "\n",
    "cols_to_scale = ['Year', 'Runtime', 'Metascore', 'IMDB_Votes',\n",
    "                 'TMDB_Rating', 'Vote_Count', 'Month', 'Day', 'Oscars_Won',\n",
    "                 'Oscars_Nominated', 'Wins', 'Nominations',\n",
    "                 'Descr_Sentiment', 'Tagline_Sentiment', 'starpower']\n",
    "\n",
    "scaler = StandardScaler()\n",
    "movies_df[cols_to_scale] = scaler.fit_transform(movies_df[cols_to_scale])"
   ],
   "id": "cbcb8898"
  },
  {
   "cell_type": "code",
   "execution_count": null,
   "metadata": {},
   "outputs": [
    {
     "output_type": "stream",
     "name": "stdout",
     "text": [
      "             feature           VIF\n",
      "7            Revenue  1.159141e+01\n",
      "34          Approved  5.883213e+12\n",
      "35                 G  3.336000e+14\n",
      "36                GP  4.094181e+13\n",
      "37                 M  3.216857e+14\n",
      "38              M_PG  1.916425e+14\n",
      "39             NC_17  9.191020e+13\n",
      "40         Not_Rated  1.047349e+14\n",
      "41                PG  1.047349e+14\n",
      "42             PG_13  6.004800e+14\n",
      "43                 R  8.417943e+13\n",
      "44             TV_MA  2.038750e+12\n",
      "45           Unrated  5.700759e+13\n",
      "49          Domestic  2.251800e+15\n",
      "50     International  9.007199e+15\n",
      "51  English_Language  4.094181e+14\n",
      "52    Other_Language  2.094698e+14"
     ]
    }
   ],
   "source": [
    "from statsmodels.stats.outliers_influence import variance_inflation_factor\n",
    "import pandas as pd\n",
    "\n",
    "X = movies_df.drop(columns=[\"Female_Lead\"])\n",
    "X = X.select_dtypes(include=[float, int])\n",
    "\n",
    "vif_data = pd.DataFrame()\n",
    "vif_data[\"feature\"] = X.columns\n",
    "vif_data[\"VIF\"] = [variance_inflation_factor(X.values, i) for i in range(X.shape[1])]\n",
    "\n",
    "print(vif_data[vif_data['VIF'] > 10])  # Check for high VIF values"
   ],
   "id": "8baed294"
  },
  {
   "cell_type": "code",
   "execution_count": 109,
   "metadata": {},
   "outputs": [
    {
     "output_type": "stream",
     "name": "stdout",
     "text": [
      "                 Generalized Linear Model Regression Results                  \n",
      "==============================================================================\n",
      "Dep. Variable:            Female_Lead   No. Observations:                 2816\n",
      "Model:                            GLM   Df Residuals:                     2770\n",
      "Model Family:                Binomial   Df Model:                           45\n",
      "Link Function:                  Logit   Scale:                          1.0000\n",
      "Method:                          IRLS   Log-Likelihood:                -1175.3\n",
      "Date:                Tue, 29 Jul 2025   Deviance:                       2350.6\n",
      "Time:                        15:35:11   Pearson chi2:                 2.76e+03\n",
      "No. Iterations:                    22   Pseudo R-squ. (CS):            0.08372\n",
      "Covariance Type:            nonrobust                                         \n",
      "==========================================================================================\n",
      "                             coef    std err          z      P>|z|      [0.025      0.975]\n",
      "------------------------------------------------------------------------------------------\n",
      "Intercept                 -0.4660      1.045     -0.446      0.656      -2.515       1.583\n",
      "Year                       0.1972      0.067      2.949      0.003       0.066       0.328\n",
      "Runtime                   -0.2203      0.077     -2.848      0.004      -0.372      -0.069\n",
      "Budget                 -2.039e-09   1.72e-09     -1.182      0.237   -5.42e-09    1.34e-09\n",
      "Month                     -0.0591      0.053     -1.121      0.262      -0.162       0.044\n",
      "Day                        0.0402      0.053      0.764      0.445      -0.063       0.143\n",
      "Action                    -0.7952      0.179     -4.433      0.000      -1.147      -0.444\n",
      "Adventure                 -0.1393      0.187     -0.744      0.457      -0.506       0.228\n",
      "Animation                 -0.8303      0.327     -2.537      0.011      -1.472      -0.189\n",
      "Biography                 -0.2394      0.245     -0.977      0.329      -0.720       0.241\n",
      "Comedy                    -0.0878      0.158     -0.555      0.579      -0.398       0.222\n",
      "Crime                     -0.5394      0.180     -2.995      0.003      -0.892      -0.186\n",
      "Documentary              -22.0020   4.34e+04     -0.001      1.000    -8.5e+04    8.49e+04\n",
      "Drama                     -0.0880      0.152     -0.580      0.562      -0.385       0.209\n",
      "Family                     0.1246      0.262      0.475      0.635      -0.389       0.639\n",
      "Fantasy                   -0.4359      0.197     -2.209      0.027      -0.823      -0.049\n",
      "Film_Noir                -21.9688   3.47e+04     -0.001      0.999    -6.8e+04     6.8e+04\n",
      "History                   -0.4222      0.385     -1.095      0.273      -1.178       0.333\n",
      "Horror                     0.6161      0.194      3.174      0.002       0.236       0.997\n",
      "Music                      0.1461      0.299      0.489      0.625      -0.439       0.732\n",
      "Mystery                    0.0334      0.175      0.191      0.849      -0.310       0.377\n",
      "Romance                    0.4933      0.163      3.027      0.002       0.174       0.813\n",
      "Sci_Fi                    -0.4243      0.222     -1.908      0.056      -0.860       0.012\n",
      "Sport                     -2.7374      1.018     -2.690      0.007      -4.732      -0.743\n",
      "Thriller                  -0.0732      0.172     -0.426      0.670      -0.410       0.264\n",
      "War                       -0.6082      0.558     -1.090      0.276      -1.702       0.486\n",
      "Western                   -1.5042      1.042     -1.444      0.149      -3.546       0.538\n",
      "G                         -0.4983      0.658     -0.757      0.449      -1.788       0.791\n",
      "GP                       -22.8200    4.4e+04     -0.001      1.000   -8.62e+04    8.62e+04\n",
      "M                        -21.0696   7.85e+04     -0.000      1.000   -1.54e+05    1.54e+05\n",
      "M_PG                     -21.4233   7.91e+04     -0.000      1.000   -1.55e+05    1.55e+05\n",
      "NC_17                     -1.3790      1.253     -1.100      0.271      -3.835       1.077\n",
      "Not_Rated                 -2.8195      1.231     -2.291      0.022      -5.232      -0.407\n",
      "PG                        -1.1203      0.613     -1.826      0.068      -2.323       0.082\n",
      "PG_13                     -0.9901      0.620     -1.597      0.110      -2.205       0.225\n",
      "R                         -1.3660      0.616     -2.217      0.027      -2.574      -0.158\n",
      "TV_MA                    -23.3471   4.46e+04     -0.001      1.000   -8.75e+04    8.74e+04\n",
      "Unrated                  -23.7567   4.58e+04     -0.001      1.000   -8.97e+04    8.97e+04\n",
      "Top_Production_Company    -0.0283      0.113     -0.250      0.803      -0.251       0.194\n",
      "Top_Director              -0.5287      0.242     -2.186      0.029      -1.003      -0.055\n",
      "Top_Writer                 0.0518      0.314      0.165      0.869      -0.564       0.668\n",
      "Domestic                   0.1779      0.134      1.328      0.184      -0.085       0.440\n",
      "English_Language           0.4508      0.802      0.562      0.574      -1.122       2.024\n",
      "Descr_Sentiment            0.1221      0.054      2.252      0.024       0.016       0.228\n",
      "Tagline_Sentiment          0.0078      0.054      0.144      0.885      -0.098       0.114\n",
      "starpower                  0.1540      0.058      2.671      0.008       0.041       0.267\n",
      "=========================================================================================="
     ]
    }
   ],
   "source": [
    "import statsmodels.formula.api as smf\n",
    "import statsmodels.api as sm\n",
    "\n",
    "# didn't include Other_Language, International, Musical, and Approved (one from each of the categorical variables)\n",
    "# THIS IS THE VERSION THAT INCLUDES THE EX-POST VARIABLES\n",
    "# formula = (\n",
    "#     \"Female_Lead ~ Year + Runtime + Budget + Metascore + IMDB_Votes + TMDB_Rating + Vote_Count + Month + Day + \"\n",
    "#     \"Action + Adventure + Animation + Biography + Comedy + Crime + Documentary + Drama + Family + Fantasy + \"\n",
    "#     \"Film_Noir + History + Horror + Music + Mystery + Romance + Sci_Fi + Sport + Thriller + War + Western + \"\n",
    "#     \"G + GP + M + M_PG + NC_17 + Not_Rated + PG + PG_13 + R + TV_MA + Unrated + \"\n",
    "#     \"Top_Production_Company + Top_Director + Top_Writer + Domestic + English_Language + \"\n",
    "#     \"Oscars_Won + Oscars_Nominated + Wins + Nominations + Descr_Sentiment + Tagline_Sentiment + starpower\"\n",
    "# )\n",
    "# THIS IS THE VERSION THAT DOES NOT INCLUDE THE EX-POST VARIABLES\n",
    "formula = (\n",
    "    \"Female_Lead ~ Year + Runtime + Budget + Month + Day + \"\n",
    "    \"Action + Adventure + Animation + Biography + Comedy + Crime + Documentary + Drama + Family + Fantasy + \"\n",
    "    \"Film_Noir + History + Horror + Music + Mystery + Romance + Sci_Fi + Sport + Thriller + War + Western + \"\n",
    "    \"G + GP + M + M_PG + NC_17 + Not_Rated + PG + PG_13 + R + TV_MA + Unrated + \"\n",
    "    \"Top_Production_Company + Top_Director + Top_Writer + Domestic + English_Language + \"\n",
    "    \"Descr_Sentiment + Tagline_Sentiment + starpower\"\n",
    ")\n",
    "\n",
    "prop_model = smf.glm(\n",
    "    formula=formula,\n",
    "    data=movies_df,\n",
    "    family=sm.families.Binomial()\n",
    ").fit()\n",
    "\n",
    "print(prop_model.summary())"
   ],
   "id": "c192b67c"
  },
  {
   "cell_type": "code",
   "execution_count": 110,
   "metadata": {},
   "outputs": [
    {
     "output_type": "display_data",
     "metadata": {},
     "data": {
      "text/html": [
       "\n",
       "<p>2816 rows × 63 columns</p>\n",
       "</div>"
      ]
     }
    }
   ],
   "source": [
    "movies_df['ps'] = prop_model.predict(movies_df)\n",
    "movies_df"
   ],
   "id": "e30e7d6a"
  },
  {
   "cell_type": "markdown",
   "metadata": {},
   "source": [
    "The closer to 0 indicates a lower likelihood of the movie having a female lead, while closer to 1 indicates a higher likelihood of the film having a female lead."
   ],
   "id": "0a83dd61"
  },
  {
   "cell_type": "code",
   "execution_count": 111,
   "metadata": {},
   "outputs": [],
   "source": [
    "movies_df['match'] = np.nan\n",
    "\n",
    "for i in range(len(movies_df)):\n",
    "    cur_T = movies_df.loc[i, \"Female_Lead\"]\n",
    "    cur_ps = movies_df.loc[i, \"ps\"]\n",
    "    \n",
    "    # Filter out current village\n",
    "    other_df = movies_df[movies_df[\"Female_Lead\"] != cur_T].copy()\n",
    "    \n",
    "    # Calculate absolute difference\n",
    "    other_df['ps_dist'] = (other_df['ps'] - cur_ps).abs()\n",
    "    \n",
    "    # Find the index of the row with minimal ps_dist\n",
    "    match_id = other_df['ps_dist'].idxmin()\n",
    "    \n",
    "    # Assign match_id to the 'match' column at position i\n",
    "    movies_df.loc[i, 'match'] = match_id"
   ],
   "id": "11eed5c9"
  },
  {
   "cell_type": "code",
   "execution_count": 112,
   "metadata": {},
   "outputs": [],
   "source": [
    "# movies_df[45:55]"
   ],
   "id": "15984fe7"
  },
  {
   "cell_type": "code",
   "execution_count": 113,
   "metadata": {},
   "outputs": [],
   "source": [
    "# movies_df.iloc[621]  # Display the row with index 2597\n",
    "# See an example where Hunger Games: Mockingjay Part 2 is matched with 2 Fast 2 Furious"
   ],
   "id": "812ed98e"
  },
  {
   "cell_type": "markdown",
   "metadata": {},
   "source": [
    "## Looking at Box Office as the Outcome Variable"
   ],
   "id": "d9c30b2e"
  },
  {
   "cell_type": "code",
   "execution_count": null,
   "metadata": {},
   "outputs": [
    {
     "output_type": "stream",
     "name": "stdout",
     "text": [
      "   movie_idx.female                  Title.female  Year.female  \\\n",
      "0                11  Maleficent: Mistress of Evil     1.012890   \n",
      "1                17                       Species    -0.690102   \n",
      "2                18            A Cinderella Story    -0.051480   \n",
      "3                21   The Hunchback of Notre Dame    -0.619144   \n",
      "4                29               Double Jeopardy    -0.406270   \n",
      "\n",
      "   Runtime.female  IMDB_Rating.female  Metascore.female  IMDB_Votes.female  \\\n",
      "0        0.277090                 6.6         -0.875368          -0.333726   \n",
      "1       -0.256919                 5.9         -0.532970          -0.468345   \n",
      "2       -0.888021                 5.9         -1.902561          -0.435065   \n",
      "3       -1.082206                 7.0          0.893687          -0.149703   \n",
      "4       -0.402558                 6.5         -0.989500          -0.429025   \n",
      "\n",
      "   Box_Office.female  Budget.female  Revenue.female  ...  Oscars_Won.male  \\\n",
      "0        113929605.0      185000000       491730089  ...        -0.260419   \n",
      "1         60074103.0       35000000       113400000  ...        -0.260419   \n",
      "2         51438175.0       19000000        70067909  ...        -0.260419   \n",
      "3        100138851.0      100000000       325300000  ...         0.741411   \n",
      "4        116741558.0       70000000       177841558  ...        -0.260419   \n",
      "\n",
      "   Oscars_Nominated.male  Wins.male  Nominations.male  Descr_Sentiment.male  \\\n",
      "0              -0.345799  -0.275417         -0.328520             -1.049520   \n",
      "1              -0.345799  -0.429860         -0.505398              0.952816   \n",
      "2              -0.345799  -0.429860         -0.439069             -1.049520   \n",
      "3              -0.345799   3.045111          1.683461             -1.049520   \n",
      "4              -0.345799  -0.429860         -0.372740              0.952816   \n",
      "\n",
      "   Tagline_Sentiment.male  Female_Lead.male  starpower.male   ps.male  \\\n",
      "0                0.812034                 0       -0.528576  0.208838   \n",
      "1               -1.231476                 0       -0.528576  0.120529   \n",
      "2               -1.231476                 0        0.614203  0.432279   \n",
      "3                0.812034                 0        0.614203  0.288741   \n",
      "4                0.812034                 0        1.185592  0.146895   \n",
      "\n",
      "   match.male  \n",
      "0        11.0  \n",
      "1        17.0  \n",
      "2       418.0  \n",
      "3        21.0  \n",
      "4        29.0  \n",
      "\n",
      "[5 rows x 130 columns]\n",
      "Mean Box Office for Female Lead: 62708871.36065574\n",
      "Mean Box Office for Male Lead: 61076707.44877049"
     ]
    }
   ],
   "source": [
    "movies_df = movies_df.rename(columns={'Box Office': 'Box_Office'})\n",
    "movies_df = movies_df.reset_index().rename(columns={'index': 'movie_idx'})\n",
    "\n",
    "female_lead_df = movies_df[movies_df['Female_Lead'] == 1]\n",
    "\n",
    "matched_df = female_lead_df.merge(movies_df, left_on='match', right_on='movie_idx', how='left', suffixes=('.female', '.male'))\n",
    "print(matched_df.head())\n",
    "\n",
    "mean_fem = matched_df['Box_Office.female'].mean()\n",
    "mean_male = matched_df['Box_Office.male'].mean()\n",
    "\n",
    "print(f\"Mean Box Office for Female Lead: {mean_fem}\")\n",
    "print(f\"Mean Box Office for Male Lead: {mean_male}\")"
   ],
   "id": "975b9a56"
  },
  {
   "cell_type": "markdown",
   "metadata": {},
   "source": [
    "## Looking at IMDb Rating as the Outcome Variable"
   ],
   "id": "ca1184b5"
  },
  {
   "cell_type": "code",
   "execution_count": null,
   "metadata": {},
   "outputs": [
    {
     "output_type": "stream",
     "name": "stdout",
     "text": [
      "Mean IMDb Rating for Female Lead: 6.329303278688524\n",
      "Mean IMDb Rating for Male Lead: 6.600819672131147"
     ]
    }
   ],
   "source": [
    "mean_fem = matched_df['IMDB_Rating.female'].mean()\n",
    "mean_male = matched_df['IMDB_Rating.male'].mean()\n",
    "\n",
    "print(f\"Mean IMDb Rating for Female Lead: {mean_fem}\")\n",
    "print(f\"Mean IMDb Rating for Male Lead: {mean_male}\")"
   ],
   "id": "f44506b7"
  }
 ],
 "nbformat": 4,
 "nbformat_minor": 5,
 "metadata": {}
}
