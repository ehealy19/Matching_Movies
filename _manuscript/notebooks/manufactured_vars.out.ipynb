{
 "cells": [
  {
   "cell_type": "markdown",
   "metadata": {},
   "source": [
    "# Manuactured Variables"
   ],
   "id": "c01de852-1c20-4f2a-9073-972bf2d983b6"
  },
  {
   "cell_type": "markdown",
   "metadata": {},
   "source": [],
   "id": "07371093"
  },
  {
   "cell_type": "markdown",
   "metadata": {},
   "source": [
    "## Performing Sentiment Analysis on Description, Tagline, and Overview"
   ],
   "id": "4ad14931"
  },
  {
   "cell_type": "code",
   "execution_count": 1,
   "metadata": {},
   "outputs": [
    {
     "output_type": "stream",
     "name": "stderr",
     "text": [
      "Device set to use cpu"
     ]
    }
   ],
   "source": [
    "from transformers import pipeline\n",
    "\n",
    "classifier = pipeline(\n",
    "    \"sentiment-analysis\", \n",
    "    model=\"distilbert-base-uncased-finetuned-sst-2-english\",\n",
    "    truncation=True\n",
    "    )"
   ],
   "id": "32e1727a"
  },
  {
   "cell_type": "code",
   "execution_count": 2,
   "metadata": {},
   "outputs": [],
   "source": [
    "import pandas as pd\n",
    "import numpy as np\n",
    "\n",
    "movies_df = pd.read_csv(\"../data/output_data/clean_movies.csv\")\n",
    "\n",
    "#Description Sentiment Analysis\n",
    "movies_df[\"Descr_Sentiment\"] = movies_df[\"Description\"].apply(lambda x: classifier(x)[0][\"label\"])"
   ],
   "id": "dcfdd68f"
  },
  {
   "cell_type": "code",
   "execution_count": 3,
   "metadata": {},
   "outputs": [],
   "source": [
    "# Overview Sentiment Analysis\n",
    "movies_df[\"Tagline_Sentiment\"] = movies_df[\"Tagline\"].apply(lambda x: classifier(x)[0][\"label\"])"
   ],
   "id": "95dbfeb0"
  },
  {
   "cell_type": "code",
   "execution_count": 4,
   "metadata": {},
   "outputs": [
    {
     "output_type": "stream",
     "name": "stderr",
     "text": [
      "/var/folders/f7/px3ynpyn7l3g5j59yyvbggrw0000gn/T/ipykernel_41943/2660690932.py:2: FutureWarning: Downcasting behavior in `replace` is deprecated and will be removed in a future version. To retain the old behavior, explicitly call `result.infer_objects(copy=False)`. To opt-in to the future behavior, set `pd.set_option('future.no_silent_downcasting', True)`\n",
      "  movies_df[\"Descr_Sentiment\"] = movies_df[\"Descr_Sentiment\"].replace({\"NEGATIVE\": 0, \"POSITIVE\": 1})\n",
      "/var/folders/f7/px3ynpyn7l3g5j59yyvbggrw0000gn/T/ipykernel_41943/2660690932.py:3: FutureWarning: Downcasting behavior in `replace` is deprecated and will be removed in a future version. To retain the old behavior, explicitly call `result.infer_objects(copy=False)`. To opt-in to the future behavior, set `pd.set_option('future.no_silent_downcasting', True)`\n",
      "  movies_df[\"Tagline_Sentiment\"] = movies_df[\"Tagline_Sentiment\"].replace({\"NEGATIVE\": 0, \"POSITIVE\": 1})"
     ]
    }
   ],
   "source": [
    "# converting the neg/pos to label 0/1\n",
    "movies_df[\"Descr_Sentiment\"] = movies_df[\"Descr_Sentiment\"].replace({\"NEGATIVE\": 0, \"POSITIVE\": 1})\n",
    "movies_df[\"Tagline_Sentiment\"] = movies_df[\"Tagline_Sentiment\"].replace({\"NEGATIVE\": 0, \"POSITIVE\": 1})"
   ],
   "id": "690dcd80"
  },
  {
   "cell_type": "code",
   "execution_count": 5,
   "metadata": {},
   "outputs": [],
   "source": [
    "# dropping the original columns\n",
    "movies_df = movies_df.drop(columns=[\"Tagline\", \"Description\"])"
   ],
   "id": "89dc0bcb"
  },
  {
   "cell_type": "code",
   "execution_count": 6,
   "metadata": {},
   "outputs": [],
   "source": [
    "movies_df.to_csv(\"../data/output_data/clean_movies_sent.csv\", index=False)"
   ],
   "id": "f8a63b6d"
  },
  {
   "cell_type": "markdown",
   "metadata": {},
   "source": [
    "## Creating the Starpower Variable"
   ],
   "id": "3843dd59"
  },
  {
   "cell_type": "code",
   "execution_count": 7,
   "metadata": {},
   "outputs": [],
   "source": [
    "import pandas as pd\n",
    "import numpy as np\n",
    "\n",
    "movies_df = pd.read_csv(\"../data/output_data/clean_movies_sent_fem.csv\")"
   ],
   "id": "d8c18a23"
  },
  {
   "cell_type": "code",
   "execution_count": 8,
   "metadata": {},
   "outputs": [
    {
     "output_type": "stream",
     "name": "stdout",
     "text": [
      "              Name\n",
      "0        Al Pacino\n",
      "1  Tommy Lee Jones\n",
      "2    Harrison Ford\n",
      "3   Robert De Niro\n",
      "4    Kevin Costner\n",
      "               Name\n",
      "0      Ansel Elgort\n",
      "1       Wes Bentley\n",
      "2  Chiwetel Ejiofor\n",
      "3        Karl Urban\n",
      "4   Britt Robertson\n",
      "Number of A-listers: 200\n",
      "Number of b-listers: 376"
     ]
    }
   ],
   "source": [
    "# Loading in the list of A-list and B-list actors/actresses \n",
    "a_list_actors_df = pd.read_csv(\"../data/input_data/a_list_actors.csv\")\n",
    "a_list_actresses_df = pd.read_csv(\"../data/input_data/a_list_actresses.csv\")\n",
    "b_list_df = pd.read_csv(\"../data/input_data/b_list.csv\")\n",
    "\n",
    "# taking just the names from the dataframes\n",
    "a_list_actors = a_list_actors_df['Name'].tolist()\n",
    "a_list_actors = pd.DataFrame(a_list_actors, columns=['Name'])\n",
    "\n",
    "a_list_actresses = a_list_actresses_df['Name'].tolist()\n",
    "a_list_actresses = pd.DataFrame(a_list_actresses, columns=['Name'])\n",
    "\n",
    "b_list = b_list_df['Name'].tolist()\n",
    "b_list = pd.DataFrame(b_list, columns=['Name'])\n",
    "\n",
    "# combining the A-list actors and actresses into one dataframe\n",
    "a_list = pd.concat([a_list_actors, a_list_actresses], ignore_index=True)\n",
    "\n",
    "print(a_list.head(5))\n",
    "print(b_list.head(5))\n",
    "\n",
    "num_a_list = len(a_list)\n",
    "num_b_list = len(b_list)\n",
    "\n",
    "print(f'Number of A-listers: {num_a_list}')\n",
    "print(f'Number of b-listers: {num_b_list}')"
   ],
   "id": "8f095867"
  },
  {
   "cell_type": "code",
   "execution_count": 9,
   "metadata": {},
   "outputs": [
    {
     "output_type": "stream",
     "name": "stdout",
     "text": [
      "           actor1             actor2           actor3  starpower\n",
      "0   Mark Wahlberg      Tyrese Gibson       André 3000   0.666667\n",
      "1      Jamie Bell        Andy Serkis     Daniel Craig   1.333333\n",
      "2   Ryan Reynolds       Blake Lively  Peter Sarsgaard   0.333333\n",
      "3     Marc Singer      Tanya Roberts         Rip Torn   0.000000\n",
      "4  Tom Hiddleston  Samuel L. Jackson      Brie Larson   1.000000\n",
      "5   Jeremy Renner           Ed Helms     Jake Johnson   0.000000\n",
      "6   Frankie Muniz       Amanda Bynes    Paul Giamatti   1.000000\n",
      "7      Ben Barnes     Skandar Keynes   Georgie Henley   0.000000\n",
      "8   Jason Bateman        Charlie Day   Jason Sudeikis   1.000000\n",
      "9      Jack Black  Ana de la Reguera   Héctor Jiménez   0.333333"
     ]
    }
   ],
   "source": [
    "# Creating the variable to calculate the starpower metric\n",
    "\n",
    "# splitting to get all four actors/actresses into separate columns\n",
    "if movies_df['Actors'].notna().any():\n",
    "    actors_split = movies_df['Actors'].str.split(',', expand=True)\n",
    "    movies_df['actor1'] = actors_split[0].str.strip()\n",
    "    movies_df['actor2'] = actors_split[1].str.strip()\n",
    "    movies_df['actor3'] = actors_split[2].str.strip()\n",
    "else:\n",
    "    print(\"The 'Actors' column is empty or missing.\")\n",
    "\n",
    "# creating the metric column\n",
    "movies_df['starpower'] = 0\n",
    "\n",
    "# Check if the first actor is in the a-list\n",
    "movies_df.loc[movies_df['actor1'].isin(a_list['Name'].values), 'starpower'] += 2\n",
    "movies_df.loc[movies_df['actor2'].isin(a_list['Name'].values), 'starpower'] += 2\n",
    "movies_df.loc[movies_df['actor3'].isin(a_list['Name'].values), 'starpower'] += 2\n",
    "\n",
    "movies_df.loc[movies_df['actor1'].isin(b_list['Name'].values), 'starpower'] += 1\n",
    "movies_df.loc[movies_df['actor2'].isin(b_list['Name'].values), 'starpower'] += 1\n",
    "movies_df.loc[movies_df['actor3'].isin(b_list['Name'].values), 'starpower'] += 1\n",
    "\n",
    "# making it an average value\n",
    "movies_df['starpower'] = movies_df['starpower'] / 3\n",
    "\n",
    "# checking the new variable\n",
    "print(movies_df[['actor1', 'actor2', 'actor3', 'starpower']].head(10))\n",
    "\n",
    "# dropping the actor columns\n",
    "movies_df = movies_df.drop(columns=[\"actor1\", \"actor2\", \"actor3\", \"Actors\"])"
   ],
   "id": "09f1749b"
  },
  {
   "cell_type": "code",
   "execution_count": 10,
   "metadata": {},
   "outputs": [],
   "source": [
    "movies_df.to_csv(\"../data/output_data/clean_movies_sent_fem_star.csv\", index=False)"
   ],
   "id": "adc7fff3"
  },
  {
   "cell_type": "markdown",
   "metadata": {},
   "source": [
    "## Creating the Female Actress Lead Variable"
   ],
   "id": "f878a880"
  },
  {
   "cell_type": "code",
   "execution_count": 11,
   "metadata": {},
   "outputs": [],
   "source": [
    "import pandas as pd\n",
    "import numpy as np\n",
    "\n",
    "movies_df = pd.read_csv(\"../data/output_data/clean_movies_sent.csv\")"
   ],
   "id": "a2e6e662"
  },
  {
   "cell_type": "code",
   "execution_count": 12,
   "metadata": {},
   "outputs": [
    {
     "output_type": "stream",
     "name": "stdout",
     "text": [
      "0          Mark Wahlberg\n",
      "1             Jamie Bell\n",
      "2          Ryan Reynolds\n",
      "3            Marc Singer\n",
      "4         Tom Hiddleston\n",
      "5          Jeremy Renner\n",
      "6          Frankie Muniz\n",
      "7             Ben Barnes\n",
      "8          Jason Bateman\n",
      "9             Jack Black\n",
      "10            Chris Pine\n",
      "11        Angelina Jolie\n",
      "12          Sam Rockwell\n",
      "13            Nick Nolte\n",
      "14        Timothy Dalton\n",
      "15             Al Pacino\n",
      "16        Clint Eastwood\n",
      "17    Natasha Henstridge\n",
      "18           Hilary Duff\n",
      "19       Jake Gyllenhaal\n",
      "Name: Actors, dtype: object\n",
      "0                                Four Brothers\n",
      "1                     The Adventures of Tintin\n",
      "2                                Green Lantern\n",
      "3                              The Beastmaster\n",
      "4                           Kong: Skull Island\n",
      "5                                          Tag\n",
      "6                                 Big Fat Liar\n",
      "7     The Chronicles of Narnia: Prince Caspian\n",
      "8                              Horrible Bosses\n",
      "9                                  Nacho Libre\n",
      "10                     Star Trek Into Darkness\n",
      "11                Maleficent: Mistress of Evil\n",
      "12                                The Bad Guys\n",
      "13                                     48 Hrs.\n",
      "14                        The Living Daylights\n",
      "15                               Carlito's Way\n",
      "16                            Heartbreak Ridge\n",
      "17                                     Species\n",
      "18                          A Cinderella Story\n",
      "19                                  Demolition\n",
      "Name: Title, dtype: object"
     ]
    }
   ],
   "source": [
    "# checking how accurate the first listed actor/actress is in terms of being the star or main character\n",
    "first_actors = movies_df['Actors'].str.split(',').str[0].str.strip()\n",
    "print(first_actors.head(20))\n",
    "\n",
    "print(movies_df['Title'].head(20))"
   ],
   "id": "47e84c48"
  },
  {
   "cell_type": "code",
   "execution_count": 13,
   "metadata": {},
   "outputs": [
    {
     "output_type": "stream",
     "name": "stdout",
     "text": [
      "There are 2452 actresses in the list"
     ]
    }
   ],
   "source": [
    "# getting the female actresses names from excel file\n",
    "\n",
    "# opening the file\n",
    "female_df = pd.read_excel(\"../data/input_data/female_actresses.xlsx\")\n",
    "female_df = female_df.rename(columns={'A': 'Name'})\n",
    "\n",
    "# splitting to get the names only\n",
    "female_df['Name'] = female_df['Name'].str.split(' born').str[0].str.split(r'\\d').str[0].str.strip()\n",
    "\n",
    "# deleting the rows that are just the letter headers\n",
    "female_df = female_df[~female_df['Name'].isin(list('ABCDEFGHIJKLMNOPQRSTUVWXYZ'))]\n",
    "\n",
    "num_actresses = len(female_df)\n",
    "print(f'There are {num_actresses} actresses in the list')"
   ],
   "id": "f5cfec6d"
  },
  {
   "cell_type": "code",
   "execution_count": 14,
   "metadata": {},
   "outputs": [
    {
     "output_type": "stream",
     "name": "stdout",
     "text": [
      "                                      Title     First_Actor  Female_Lead\n",
      "0                             Four Brothers   Mark Wahlberg            0\n",
      "1                  The Adventures of Tintin      Jamie Bell            0\n",
      "2                             Green Lantern   Ryan Reynolds            0\n",
      "3                           The Beastmaster     Marc Singer            0\n",
      "4                        Kong: Skull Island  Tom Hiddleston            0\n",
      "5                                       Tag   Jeremy Renner            0\n",
      "6                              Big Fat Liar   Frankie Muniz            0\n",
      "7  The Chronicles of Narnia: Prince Caspian      Ben Barnes            0\n",
      "8                           Horrible Bosses   Jason Bateman            0\n",
      "9                               Nacho Libre      Jack Black            0\n",
      "              Title         First_Actor  Female_Lead\n",
      "2806     The Family      Robert De Niro            0\n",
      "2807      The Shack     Sam Worthington            0\n",
      "2808  The Dead Zone  Christopher Walken            0\n",
      "2809        The Ref         Denis Leary            0\n",
      "2810        Flyboys        James Franco            0\n",
      "2811            ATL   Tip 'T.I.' Harris            0\n",
      "2812    Like a Boss     Tiffany Haddish            1\n",
      "2813     Enemy Mine        Dennis Quaid            0\n",
      "2814     Proud Mary    Taraji P. Henson            1\n",
      "2815        Valmont         Colin Firth            0"
     ]
    }
   ],
   "source": [
    "# Creating the variable to indicate if first actor is female\n",
    "first_actors = movies_df['Actors'].str.split(',').str[0].str.strip()\n",
    "movies_df['First_Actor'] = first_actors\n",
    "\n",
    "# Check if the first actor is in the female name list\n",
    "movies_df['Female_Lead'] = movies_df['First_Actor'].apply(lambda x: int(any(name in x for name in female_df['Name'])))\n",
    "\n",
    "# checking the new variable\n",
    "print(movies_df[['Title', 'First_Actor', 'Female_Lead']].head(10))\n",
    "print(movies_df[['Title', 'First_Actor', 'Female_Lead']].tail(10))\n",
    "\n",
    "# dropping the first_Actor column\n",
    "movies_df = movies_df.drop(columns=[\"First_Actor\"])"
   ],
   "id": "7e94a27b"
  },
  {
   "cell_type": "code",
   "execution_count": 15,
   "metadata": {},
   "outputs": [
    {
     "output_type": "stream",
     "name": "stdout",
     "text": [
      "Female_Lead\n",
      "0    2328\n",
      "1     488\n",
      "Name: count, dtype: int64"
     ]
    }
   ],
   "source": [
    "# Count of the split\n",
    "female_lead_count = movies_df['Female_Lead'].value_counts()\n",
    "print(female_lead_count)"
   ],
   "id": "d0d0f60d"
  },
  {
   "cell_type": "code",
   "execution_count": 16,
   "metadata": {},
   "outputs": [],
   "source": [
    "movies_df.to_csv(\"../data/output_data/clean_movies_sent_fem.csv\", index=False)"
   ],
   "id": "60497a4f"
  }
 ],
 "nbformat": 4,
 "nbformat_minor": 5,
 "metadata": {}
}
